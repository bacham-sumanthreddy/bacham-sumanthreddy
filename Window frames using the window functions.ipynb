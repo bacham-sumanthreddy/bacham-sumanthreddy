{
 "cells": [
  {
   "cell_type": "markdown",
   "metadata": {
    "application/vnd.databricks.v1+cell": {
     "cellMetadata": {},
     "inputWidgets": {},
     "nuid": "dfa6dfb1-1f64-41f5-afb8-dfedd25ea52f",
     "showTitle": false,
     "tableResultSettingsMap": {},
     "title": ""
    }
   },
   "source": [
    "**Window frames using the window functions**"
   ]
  },
  {
   "cell_type": "code",
   "execution_count": 0,
   "metadata": {
    "application/vnd.databricks.v1+cell": {
     "cellMetadata": {
      "byteLimit": 2048000,
      "rowLimit": 10000
     },
     "inputWidgets": {},
     "nuid": "3acb46a5-1b7a-4822-acf5-0f0caaa344ab",
     "showTitle": false,
     "tableResultSettingsMap": {},
     "title": ""
    }
   },
   "outputs": [],
   "source": [
    "drop table if exists sales;\n",
    "-- 1. Create the SALES table\n",
    "CREATE TABLE SALES (\n",
    "    SaleID INT PRIMARY KEY,\n",
    "    CustomerID VARCHAR(10),\n",
    "    SaleDate DATE,\n",
    "    Amount DECIMAL(10,2)\n",
    ");\n",
    "\n",
    "-- 2. Insert sample data\n",
    "INSERT INTO SALES (SaleID, CustomerID, SaleDate, Amount) VALUES\n",
    "(1, 'C1', '2024-01-01', 100),\n",
    "(2, 'C1', '2024-01-02', 200),\n",
    "(3, 'C1', '2024-01-03', 150),\n",
    "(4, 'C2', '2024-01-01', 300),\n",
    "(5, 'C2', '2024-01-02', 400),\n",
    "(6, 'C2', '2024-01-03', 250);\n"
   ]
  },
  {
   "cell_type": "code",
   "execution_count": 0,
   "metadata": {
    "application/vnd.databricks.v1+cell": {
     "cellMetadata": {
      "byteLimit": 2048000,
      "rowLimit": 10000
     },
     "inputWidgets": {},
     "nuid": "a5974b64-340c-4cc1-973c-c4a62b489b01",
     "showTitle": false,
     "tableResultSettingsMap": {},
     "title": ""
    }
   },
   "outputs": [],
   "source": [
    "select * from sales"
   ]
  },
  {
   "cell_type": "markdown",
   "metadata": {
    "application/vnd.databricks.v1+cell": {
     "cellMetadata": {},
     "inputWidgets": {},
     "nuid": "821a46bd-d90f-4a29-9560-0ba8a114411b",
     "showTitle": false,
     "tableResultSettingsMap": {},
     "title": ""
    }
   },
   "source": [
    "---->1️ ROWS BETWEEN UNBOUNDED PRECEDING AND CURRENT ROW, Running total / cumulative sales\n",
    "\n",
    "Track how much a customer has spent up to a given day (useful in loyalty programs)."
   ]
  },
  {
   "cell_type": "code",
   "execution_count": 0,
   "metadata": {
    "application/vnd.databricks.v1+cell": {
     "cellMetadata": {
      "byteLimit": 2048000,
      "rowLimit": 10000
     },
     "inputWidgets": {},
     "nuid": "f9688f27-8d1d-4860-bd57-931c044d0c4d",
     "showTitle": false,
     "tableResultSettingsMap": {},
     "title": ""
    }
   },
   "outputs": [],
   "source": [
    "select\n",
    "  *,\n",
    "  sum(Amount) over (\n",
    "    partition by CustomerID\n",
    "    order by SaleDate\n",
    "    rows between unbounded preceding and current row\n",
    "  ) as running_total\n",
    "from sales"
   ]
  },
  {
   "cell_type": "markdown",
   "metadata": {
    "application/vnd.databricks.v1+cell": {
     "cellMetadata": {},
     "inputWidgets": {},
     "nuid": "f376ad31-16e1-4154-8a8c-7a377dab60ec",
     "showTitle": false,
     "tableResultSettingsMap": {},
     "title": ""
    }
   },
   "source": [
    "----> ROWS BETWEEN UNBOUNDED PRECEDING AND UNBOUNDED FOLLOWING\n",
    "\n",
    "Show each purchase with the total customer lifetime value (LTV)."
   ]
  },
  {
   "cell_type": "code",
   "execution_count": 0,
   "metadata": {
    "application/vnd.databricks.v1+cell": {
     "cellMetadata": {
      "byteLimit": 2048000,
      "rowLimit": 10000
     },
     "inputWidgets": {},
     "nuid": "9b32a80f-b189-48a8-9be9-c1e35e6a9904",
     "showTitle": false,
     "tableResultSettingsMap": {},
     "title": ""
    }
   },
   "outputs": [],
   "source": [
    "select *,\n",
    "sum(Amount) over(partition by CustomerID order by SaleDate rows between unbounded preceding and current row) as cummulative_sales from sales"
   ]
  },
  {
   "cell_type": "markdown",
   "metadata": {
    "application/vnd.databricks.v1+cell": {
     "cellMetadata": {},
     "inputWidgets": {},
     "nuid": "e07ec608-3751-4869-ad9a-cc518f9a0a25",
     "showTitle": false,
     "tableResultSettingsMap": {},
     "title": ""
    }
   },
   "source": [
    "ROWS BETWEEN CURRENT ROW AND UNBOUNDED FOLLOWING"
   ]
  },
  {
   "cell_type": "code",
   "execution_count": 0,
   "metadata": {
    "application/vnd.databricks.v1+cell": {
     "cellMetadata": {
      "byteLimit": 2048000,
      "rowLimit": 10000
     },
     "inputWidgets": {},
     "nuid": "8ce1a0b9-b061-44cd-8c20-ef9b03b7d2fc",
     "showTitle": false,
     "tableResultSettingsMap": {},
     "title": ""
    }
   },
   "outputs": [],
   "source": [
    "SELECT CustomerID, SaleDate, Amount,\n",
    "SUM(Amount) OVER (PARTITION BY CustomerID\n",
    "ORDER BY SaleDate\n",
    "ROWS BETWEEN CURRENT ROW AND UNBOUNDED FOLLOWING\n",
    ") AS Future_Sales\n",
    "FROM Sales;"
   ]
  },
  {
   "cell_type": "markdown",
   "metadata": {
    "application/vnd.databricks.v1+cell": {
     "cellMetadata": {},
     "inputWidgets": {},
     "nuid": "80587821-00c1-43f9-9ab9-a4744a383e82",
     "showTitle": false,
     "tableResultSettingsMap": {},
     "title": ""
    }
   },
   "source": [
    "ROWS BETWEEN 1 PRECEDING AND 1 FOLLOWING"
   ]
  },
  {
   "cell_type": "code",
   "execution_count": 0,
   "metadata": {
    "application/vnd.databricks.v1+cell": {
     "cellMetadata": {
      "byteLimit": 2048000,
      "rowLimit": 10000
     },
     "inputWidgets": {},
     "nuid": "35fe6bd4-f1e4-437a-b02b-2502dafa274c",
     "showTitle": false,
     "tableResultSettingsMap": {},
     "title": ""
    }
   },
   "outputs": [],
   "source": [
    "SELECT CustomerID, SaleDate, Amount,\n",
    "AVG(Amount) OVER (\n",
    "PARTITION BY CustomerID ORDER BY SaleDate\n",
    "ROWS BETWEEN 1 PRECEDING AND 1 FOLLOWING\n",
    ") AS Moving_Avg\n",
    "FROM Sales;"
   ]
  },
  {
   "cell_type": "markdown",
   "metadata": {
    "application/vnd.databricks.v1+cell": {
     "cellMetadata": {},
     "inputWidgets": {},
     "nuid": "7da8c740-4ec7-489f-93f6-fa287fff6ca9",
     "showTitle": false,
     "tableResultSettingsMap": {},
     "title": ""
    }
   },
   "source": [
    "ROWS BETWEEN N PRECEDING AND CURRENT ROW"
   ]
  },
  {
   "cell_type": "code",
   "execution_count": 0,
   "metadata": {
    "application/vnd.databricks.v1+cell": {
     "cellMetadata": {
      "byteLimit": 2048000,
      "rowLimit": 10000
     },
     "inputWidgets": {},
     "nuid": "9f72af0f-7517-4fa6-bd68-09555d4f3210",
     "showTitle": false,
     "tableResultSettingsMap": {},
     "title": ""
    }
   },
   "outputs": [],
   "source": [
    "SELECT CustomerID, SaleDate, Amount,\n",
    "SUM(Amount) OVER ( PARTITION BY CustomerID ORDER BY SaleDate ROWS BETWEEN 6 PRECEDING AND CURRENT ROW\n",
    ") AS Last7Days_Sales\n",
    "FROM Sales;"
   ]
  },
  {
   "cell_type": "markdown",
   "metadata": {
    "application/vnd.databricks.v1+cell": {
     "cellMetadata": {},
     "inputWidgets": {},
     "nuid": "dff49878-602b-425e-ba35-19387835af7f",
     "showTitle": false,
     "tableResultSettingsMap": {},
     "title": ""
    }
   },
   "source": [
    "RANGE BETWEEN UNBOUNDED PRECEDING AND CURRENT ROW\n"
   ]
  },
  {
   "cell_type": "code",
   "execution_count": 0,
   "metadata": {
    "application/vnd.databricks.v1+cell": {
     "cellMetadata": {
      "byteLimit": 2048000,
      "rowLimit": 10000
     },
     "inputWidgets": {},
     "nuid": "c0b6feb4-89f3-4f33-a15b-c85565edaeaf",
     "showTitle": false,
     "tableResultSettingsMap": {},
     "title": ""
    }
   },
   "outputs": [],
   "source": [
    "SELECT CustomerID, SaleDate, Amount,\n",
    "SUM(Amount) OVER (\n",
    "    PARTITION BY CustomerID\n",
    "    ORDER BY SaleDate\n",
    "    RANGE BETWEEN UNBOUNDED PRECEDING AND CURRENT ROW\n",
    ") AS Cumulative_By_Date\n",
    "FROM Sales;"
   ]
  },
  {
   "cell_type": "code",
   "execution_count": 0,
   "metadata": {
    "application/vnd.databricks.v1+cell": {
     "cellMetadata": {},
     "inputWidgets": {},
     "nuid": "00d2e059-c83a-44df-b30e-957e79811225",
     "showTitle": false,
     "tableResultSettingsMap": {},
     "title": ""
    }
   },
   "outputs": [],
   "source": []
  },
  {
   "cell_type": "markdown",
   "metadata": {
    "application/vnd.databricks.v1+cell": {
     "cellMetadata": {},
     "inputWidgets": {},
     "nuid": "bb235d8c-b7bf-4124-9fae-c1a40b5f0772",
     "showTitle": false,
     "tableResultSettingsMap": {},
     "title": ""
    }
   },
   "source": []
  }
 ],
 "metadata": {
  "application/vnd.databricks.v1+notebook": {
   "computePreferences": null,
   "dashboards": [],
   "environmentMetadata": {
    "base_environment": "",
    "environment_version": "3"
   },
   "inputWidgetPreferences": null,
   "language": "sql",
   "notebookMetadata": {},
   "notebookName": "Window frames using the window functions",
   "widgets": {}
  },
  "language_info": {
   "name": "sql"
  }
 },
 "nbformat": 4,
 "nbformat_minor": 0
}
