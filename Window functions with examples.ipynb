{
 "cells": [
  {
   "cell_type": "markdown",
   "metadata": {
    "application/vnd.databricks.v1+cell": {
     "cellMetadata": {},
     "inputWidgets": {},
     "nuid": "68b00eb6-5277-466e-a893-dcf698d38183",
     "showTitle": false,
     "tableResultSettingsMap": {},
     "title": ""
    }
   },
   "source": [
    "**Window functions in sql**"
   ]
  },
  {
   "cell_type": "markdown",
   "metadata": {
    "application/vnd.databricks.v1+cell": {
     "cellMetadata": {},
     "inputWidgets": {},
     "nuid": "cfbfd7f7-c72a-41ce-9034-6861733ea3ab",
     "showTitle": false,
     "tableResultSettingsMap": {},
     "title": ""
    }
   },
   "source": [
    "| **Category**               | **Functions**                                                     |\n",
    "| -------------------------- | ----------------------------------------------------------------- |\n",
    "| Aggregate                  | `SUM`, `AVG`, `MIN`, `MAX`, `COUNT`                               |\n",
    "| Ranking                    | `ROW_NUMBER`, `RANK`, `DENSE_RANK`, `NTILE`                       |\n",
    "| Analytic / Value           | `LAG`, `LEAD`, `FIRST_VALUE`, `LAST_VALUE`                        |\n",
    "| Statistical / Distribution | `PERCENT_RANK`, `CUME_DIST`, `PERCENTILE_CONT`, `PERCENTILE_DISC` |\n"
   ]
  },
  {
   "cell_type": "code",
   "execution_count": 0,
   "metadata": {
    "application/vnd.databricks.v1+cell": {
     "cellMetadata": {
      "byteLimit": 2048000,
      "rowLimit": 10000
     },
     "inputWidgets": {},
     "nuid": "9ded8d5f-b404-4703-bda0-6f931f1c5abc",
     "showTitle": true,
     "tableResultSettingsMap": {},
     "title": "table creation"
    }
   },
   "outputs": [],
   "source": [
    "drop table if exists Employees;\n",
    "\n",
    "CREATE TABLE Employees (\n",
    "    EmpID INT PRIMARY KEY,\n",
    "    EmpName VARCHAR(50),\n",
    "    Department VARCHAR(50),\n",
    "    Salary INT,\n",
    "    HireDate DATE\n",
    ");\n"
   ]
  },
  {
   "cell_type": "code",
   "execution_count": 0,
   "metadata": {
    "application/vnd.databricks.v1+cell": {
     "cellMetadata": {
      "byteLimit": 2048000,
      "rowLimit": 10000
     },
     "inputWidgets": {},
     "nuid": "c717f35e-5c7d-4adb-a803-25f5b1d1cba5",
     "showTitle": false,
     "tableResultSettingsMap": {},
     "title": ""
    }
   },
   "outputs": [],
   "source": [
    "INSERT INTO Employees VALUES\n",
    "(1, 'Alice',   'HR',        3000, '2020-01-10'),\n",
    "(2, 'Bob',     'HR',        4000, '2019-03-15'),\n",
    "(3, 'Charlie', 'Finance',   6000, '2018-07-22'),\n",
    "(4, 'David',   'Finance',   8000, '2021-05-30'),\n",
    "(5, 'Eve',     'Finance',   9000, '2017-11-12'),\n",
    "(6, 'Frank',   'IT',       10000, '2019-12-01'),\n",
    "(7, 'Grace',   'IT',        7000, '2021-08-19'),\n",
    "(8, 'Hannah',  'IT',        7500, '2020-10-05'),\n",
    "(9, 'Ian',     'HR',        5000, '2022-02-25'),\n",
    "(10,'Jack',    'Finance',   5500, '2021-09-10');\n"
   ]
  },
  {
   "cell_type": "markdown",
   "metadata": {
    "application/vnd.databricks.v1+cell": {
     "cellMetadata": {},
     "inputWidgets": {},
     "nuid": "f710cf82-c666-4789-a7fb-35898b32bd2c",
     "showTitle": false,
     "tableResultSettingsMap": {},
     "title": ""
    }
   },
   "source": [
    "-----> RANKING WINDOW FUNCTIONS"
   ]
  },
  {
   "cell_type": "markdown",
   "metadata": {
    "application/vnd.databricks.v1+cell": {
     "cellMetadata": {},
     "inputWidgets": {},
     "nuid": "a8f412d9-c9cf-4b1f-8494-9901e7e4ec61",
     "showTitle": false,
     "tableResultSettingsMap": {},
     "title": ""
    }
   },
   "source": [
    "**Q1. Rank employees by Salary (highest first).**"
   ]
  },
  {
   "cell_type": "code",
   "execution_count": 0,
   "metadata": {
    "application/vnd.databricks.v1+cell": {
     "cellMetadata": {
      "byteLimit": 2048000,
      "rowLimit": 10000
     },
     "inputWidgets": {},
     "nuid": "d16a1eeb-007e-4aa1-8355-7c8e2d673eb1",
     "showTitle": false,
     "tableResultSettingsMap": {},
     "title": ""
    }
   },
   "outputs": [],
   "source": [
    "select * from Employees"
   ]
  },
  {
   "cell_type": "code",
   "execution_count": 0,
   "metadata": {
    "application/vnd.databricks.v1+cell": {
     "cellMetadata": {
      "byteLimit": 2048000,
      "rowLimit": 10000
     },
     "inputWidgets": {},
     "nuid": "3b65771f-346d-4c2d-a683-e05a380e6b9e",
     "showTitle": false,
     "tableResultSettingsMap": {},
     "title": ""
    }
   },
   "outputs": [],
   "source": [
    "select\n",
    "  EmpID,\n",
    "  EmpName,\n",
    "  Department,\n",
    "  Salary,\n",
    "  row_number() over (order by Salary desc) as row_number,\n",
    "  rank() over (order by salary desc) as rank,\n",
    "  dense_rank() over (order by salary desc) as dense_rank\n",
    "from\n",
    "  Employees"
   ]
  },
  {
   "cell_type": "markdown",
   "metadata": {
    "application/vnd.databricks.v1+cell": {
     "cellMetadata": {},
     "inputWidgets": {},
     "nuid": "6585f5fb-92e6-46ef-82af-63085044f02d",
     "showTitle": false,
     "tableResultSettingsMap": {},
     "title": ""
    }
   },
   "source": [
    "**Give DENSE_RANK() for employees within each Department.**"
   ]
  },
  {
   "cell_type": "code",
   "execution_count": 0,
   "metadata": {
    "application/vnd.databricks.v1+cell": {
     "cellMetadata": {
      "byteLimit": 2048000,
      "rowLimit": 10000
     },
     "inputWidgets": {},
     "nuid": "3165137a-f4a1-444f-b9f2-e7d192af8d58",
     "showTitle": false,
     "tableResultSettingsMap": {},
     "title": ""
    }
   },
   "outputs": [],
   "source": [
    "select\n",
    "  empname,\n",
    "  department,\n",
    "  salary,\n",
    "  dense_rank() over (partition by department order by salary desc) as row_number\n",
    "from\n",
    "  employees"
   ]
  },
  {
   "cell_type": "markdown",
   "metadata": {
    "application/vnd.databricks.v1+cell": {
     "cellMetadata": {},
     "inputWidgets": {},
     "nuid": "28c13edc-06bd-4dc4-8a97-75d6ca44e0ac",
     "showTitle": false,
     "tableResultSettingsMap": {},
     "title": ""
    }
   },
   "source": [
    "**Q3. Assign Row Numbers to employees ordered by HireDate.**"
   ]
  },
  {
   "cell_type": "code",
   "execution_count": 0,
   "metadata": {
    "application/vnd.databricks.v1+cell": {
     "cellMetadata": {
      "byteLimit": 2048000,
      "rowLimit": 10000
     },
     "inputWidgets": {},
     "nuid": "826eb10d-0805-4587-b735-2d0ad3e9eb2c",
     "showTitle": false,
     "tableResultSettingsMap": {},
     "title": ""
    }
   },
   "outputs": [],
   "source": [
    "SELECT EmpName, HireDate,\n",
    " ROW_NUMBER() OVER(ORDER BY HireDate) AS RowNum\n",
    "FROM Employees;"
   ]
  },
  {
   "cell_type": "markdown",
   "metadata": {
    "application/vnd.databricks.v1+cell": {
     "cellMetadata": {},
     "inputWidgets": {},
     "nuid": "2456599f-d7e4-4bce-bae2-0067ae7687d6",
     "showTitle": false,
     "tableResultSettingsMap": {},
     "title": ""
    }
   },
   "source": [
    "**Split employees into 4 Quartiles by Salary (NTILE).**\n",
    "\n",
    "NTILE(N) = splits rows into N roughly equal groups.\n",
    "\n",
    "Used for quartiles, deciles, percentiles, customer segmentation, sales performance tiers, bonus slabs.\n",
    "\n",
    "NTILE(4) → Quartiles (25% groups).\n",
    "\n",
    "NTILE(10) → Deciles (10% groups).\n",
    "\n",
    "NTILE(100) → Percentiles (1% groups)."
   ]
  },
  {
   "cell_type": "markdown",
   "metadata": {
    "application/vnd.databricks.v1+cell": {
     "cellMetadata": {},
     "inputWidgets": {},
     "nuid": "287b2c44-b627-4211-8e5e-c91b06b85a99",
     "showTitle": false,
     "tableResultSettingsMap": {},
     "title": ""
    }
   },
   "source": [
    "**We want to split employees into 4 quartiles based on their salary (highest to lowest).\n",
    "\n",
    "Quartile 1 (Q1): Top 25% salaries (highest earners)\n",
    "\n",
    "Quartile 2 (Q2): Next 25%\n",
    "\n",
    "Quartile 3 (Q3): Next 25%\n",
    "\n",
    "Quartile 4 (Q4): Lowest 25% salaries**"
   ]
  },
  {
   "cell_type": "code",
   "execution_count": 0,
   "metadata": {
    "application/vnd.databricks.v1+cell": {
     "cellMetadata": {
      "byteLimit": 2048000,
      "rowLimit": 10000
     },
     "inputWidgets": {},
     "nuid": "3fc35b0c-c5cd-43ee-b47a-47a17c0c4bad",
     "showTitle": false,
     "tableResultSettingsMap": {},
     "title": ""
    }
   },
   "outputs": [],
   "source": [
    "select EmpName,Salary,\n",
    "ntile(4) over (order by Salary desc) as  quartiles\n",
    "from employees"
   ]
  },
  {
   "cell_type": "markdown",
   "metadata": {
    "application/vnd.databricks.v1+cell": {
     "cellMetadata": {},
     "inputWidgets": {},
     "nuid": "ad627c19-03c2-452d-a717-4b860d32d608",
     "showTitle": false,
     "tableResultSettingsMap": {},
     "title": ""
    }
   },
   "source": [
    "-----> Aggregate window functions"
   ]
  },
  {
   "cell_type": "markdown",
   "metadata": {
    "application/vnd.databricks.v1+cell": {
     "cellMetadata": {},
     "inputWidgets": {},
     "nuid": "6b09124c-d640-4ccb-92f4-6594d6c2bea2",
     "showTitle": false,
     "tableResultSettingsMap": {},
     "title": ""
    }
   },
   "source": [
    "**Q1. Running total of salaries by hire date**"
   ]
  },
  {
   "cell_type": "code",
   "execution_count": 0,
   "metadata": {
    "application/vnd.databricks.v1+cell": {
     "cellMetadata": {
      "byteLimit": 2048000,
      "rowLimit": 10000
     },
     "inputWidgets": {},
     "nuid": "21edc7e8-6def-4677-9dea-d85ae2e53746",
     "showTitle": false,
     "tableResultSettingsMap": {},
     "title": ""
    }
   },
   "outputs": [],
   "source": [
    "select empname,department,salary,\n",
    "sum(salary) over(order by salary desc) as running_total\n",
    "from employees"
   ]
  },
  {
   "cell_type": "markdown",
   "metadata": {
    "application/vnd.databricks.v1+cell": {
     "cellMetadata": {},
     "inputWidgets": {},
     "nuid": "a8372470-e67b-42ae-9a29-868647a7dec6",
     "showTitle": false,
     "tableResultSettingsMap": {},
     "title": ""
    }
   },
   "source": [
    "**Q2. Average salary in each department**"
   ]
  },
  {
   "cell_type": "code",
   "execution_count": 0,
   "metadata": {
    "application/vnd.databricks.v1+cell": {
     "cellMetadata": {
      "byteLimit": 2048000,
      "rowLimit": 10000
     },
     "inputWidgets": {},
     "nuid": "31442fb2-26a5-476d-b1d3-658c879938b0",
     "showTitle": false,
     "tableResultSettingsMap": {},
     "title": ""
    }
   },
   "outputs": [],
   "source": [
    "SELECT \n",
    "    EmpName, \n",
    "    Department, \n",
    "    Salary,\n",
    "    AVG(Salary) OVER(PARTITION BY Department) AS DeptAvgSalary\n",
    "FROM Employees;"
   ]
  },
  {
   "cell_type": "markdown",
   "metadata": {
    "application/vnd.databricks.v1+cell": {
     "cellMetadata": {},
     "inputWidgets": {},
     "nuid": "d9662f2c-dfb0-4f56-ba17-465b561ee693",
     "showTitle": false,
     "tableResultSettingsMap": {},
     "title": ""
    }
   },
   "source": [
    "**Q3. Minimum & Maximum salary in each department**"
   ]
  },
  {
   "cell_type": "code",
   "execution_count": 0,
   "metadata": {
    "application/vnd.databricks.v1+cell": {
     "cellMetadata": {
      "byteLimit": 2048000,
      "rowLimit": 10000
     },
     "inputWidgets": {},
     "nuid": "0af10898-b250-4b48-bd7a-4689c799dde6",
     "showTitle": false,
     "tableResultSettingsMap": {},
     "title": ""
    }
   },
   "outputs": [],
   "source": [
    "SELECT \n",
    "    EmpName, \n",
    "    Department, \n",
    "    Salary,\n",
    "    MIN(Salary) OVER(PARTITION BY Department) AS DeptMinSalary,\n",
    "    MAX(Salary) OVER(PARTITION BY Department) AS DeptMaxSalary\n",
    "FROM Employees;\n"
   ]
  },
  {
   "cell_type": "markdown",
   "metadata": {
    "application/vnd.databricks.v1+cell": {
     "cellMetadata": {},
     "inputWidgets": {},
     "nuid": "8b39780c-a810-40b1-b628-21acb6a2765e",
     "showTitle": false,
     "tableResultSettingsMap": {},
     "title": ""
    }
   },
   "source": [
    "**Analytics Window functions**\n",
    "\n",
    "Lead()\n",
    "Lag()\n",
    "Fist_value()\n",
    "Last_Value()"
   ]
  },
  {
   "cell_type": "code",
   "execution_count": 0,
   "metadata": {
    "application/vnd.databricks.v1+cell": {
     "cellMetadata": {
      "byteLimit": 2048000,
      "rowLimit": 10000
     },
     "inputWidgets": {},
     "nuid": "834fe06d-54b3-431a-99d6-7d9041a58f86",
     "showTitle": false,
     "tableResultSettingsMap": {},
     "title": ""
    }
   },
   "outputs": [],
   "source": [
    "SELECT \n",
    "    EmpName, \n",
    "    Salary,\n",
    "    LAG(Salary) OVER(ORDER BY Salary DESC) AS PrevSalary,\n",
    "    LEAD(Salary) OVER(ORDER BY Salary DESC) AS NextSalary\n",
    "FROM Employees;\n"
   ]
  },
  {
   "cell_type": "markdown",
   "metadata": {
    "application/vnd.databricks.v1+cell": {
     "cellMetadata": {},
     "inputWidgets": {},
     "nuid": "3ae0ff63-71a6-435c-82e1-1b7adaf34e7d",
     "showTitle": false,
     "tableResultSettingsMap": {},
     "title": ""
    }
   },
   "source": [
    "FIRST_VALUE()\n",
    "\n",
    "----> Get the highest salary in the partition."
   ]
  },
  {
   "cell_type": "code",
   "execution_count": 0,
   "metadata": {
    "application/vnd.databricks.v1+cell": {
     "cellMetadata": {
      "byteLimit": 2048000,
      "rowLimit": 10000
     },
     "inputWidgets": {},
     "nuid": "2758d796-a655-4d8c-b26b-a499f31f7fd2",
     "showTitle": false,
     "tableResultSettingsMap": {},
     "title": ""
    }
   },
   "outputs": [],
   "source": [
    "SELECT \n",
    "    EmpName, \n",
    "    Department,\n",
    "    Salary,\n",
    "    FIRST_VALUE(Salary) OVER(PARTITION BY Department ORDER BY Salary DESC) AS DeptTopSalary\n",
    "FROM Employees;"
   ]
  },
  {
   "cell_type": "markdown",
   "metadata": {
    "application/vnd.databricks.v1+cell": {
     "cellMetadata": {},
     "inputWidgets": {},
     "nuid": "70afc3d7-ea9d-410c-8d42-5811acf05375",
     "showTitle": false,
     "tableResultSettingsMap": {},
     "title": ""
    }
   },
   "source": [
    "LAST_VALUE()\n",
    "\n",
    "Get the lowest salary in the partition."
   ]
  },
  {
   "cell_type": "code",
   "execution_count": 0,
   "metadata": {
    "application/vnd.databricks.v1+cell": {
     "cellMetadata": {
      "byteLimit": 2048000,
      "rowLimit": 10000
     },
     "inputWidgets": {},
     "nuid": "a99f7728-5022-4af9-8b19-3db2b9f3ad19",
     "showTitle": false,
     "tableResultSettingsMap": {},
     "title": ""
    }
   },
   "outputs": [],
   "source": [
    "SELECT \n",
    "    EmpName, \n",
    "    Department,\n",
    "    Salary,\n",
    "    LAST_VALUE(Salary) OVER( ORDER BY Salary DESC \n",
    "        ROWS BETWEEN UNBOUNDED PRECEDING AND UNBOUNDED FOLLOWING) AS DeptLowestSalary\n",
    "FROM Employees;"
   ]
  },
  {
   "cell_type": "code",
   "execution_count": 0,
   "metadata": {
    "application/vnd.databricks.v1+cell": {
     "cellMetadata": {
      "byteLimit": 2048000,
      "rowLimit": 10000
     },
     "inputWidgets": {},
     "nuid": "82ea71ae-63b1-4a06-a006-d9578b3a4d92",
     "showTitle": false,
     "tableResultSettingsMap": {},
     "title": ""
    }
   },
   "outputs": [],
   "source": [
    "SELECT \n",
    "    EmpName, \n",
    "    Department,\n",
    "    Salary,\n",
    "    LAST_VALUE(Salary) OVER(PARTITION BY Department ORDER BY Salary DESC \n",
    "        ROWS BETWEEN UNBOUNDED PRECEDING AND UNBOUNDED FOLLOWING) AS DeptLowestSalary\n",
    "FROM Employees;\n"
   ]
  },
  {
   "cell_type": "markdown",
   "metadata": {
    "application/vnd.databricks.v1+cell": {
     "cellMetadata": {},
     "inputWidgets": {},
     "nuid": "f8edd1e3-ffe7-4924-a21b-dcc2b2d24d79",
     "showTitle": false,
     "tableResultSettingsMap": {},
     "title": ""
    }
   },
   "source": [
    "**Statistical Window Functions**\n",
    "1. PERCENT_RANK()\n",
    "\n",
    "Returns the relative rank of a row between 0 and 1.\n",
    "\n",
    "Formula:\n",
    "\n",
    "PERCENT_RANK = Rank − 1 (%) TotalRows − 1\n",
    "\n",
    "\n",
    "First row = 0, last row = 1."
   ]
  },
  {
   "cell_type": "code",
   "execution_count": 0,
   "metadata": {
    "application/vnd.databricks.v1+cell": {
     "cellMetadata": {
      "byteLimit": 2048000,
      "rowLimit": 10000
     },
     "inputWidgets": {},
     "nuid": "11ce6fa5-f883-4d15-8dba-2884053eff2a",
     "showTitle": false,
     "tableResultSettingsMap": {},
     "title": ""
    }
   },
   "outputs": [],
   "source": [
    "SELECT \n",
    "    EmpName,\n",
    "    Salary,\n",
    "    PERCENT_RANK() OVER(ORDER BY Salary) AS PercentRank\n",
    "FROM Employees;"
   ]
  },
  {
   "cell_type": "markdown",
   "metadata": {
    "application/vnd.databricks.v1+cell": {
     "cellMetadata": {},
     "inputWidgets": {},
     "nuid": "32edc433-372d-482b-be6e-241af277a3ef",
     "showTitle": false,
     "tableResultSettingsMap": {},
     "title": ""
    }
   },
   "source": [
    "------ > percentile_cont()\n"
   ]
  },
  {
   "cell_type": "code",
   "execution_count": 0,
   "metadata": {
    "application/vnd.databricks.v1+cell": {
     "cellMetadata": {
      "byteLimit": 2048000,
      "rowLimit": 10000
     },
     "inputWidgets": {},
     "nuid": "b310b730-4428-43d6-8e17-965093506d18",
     "showTitle": false,
     "tableResultSettingsMap": {},
     "title": ""
    }
   },
   "outputs": [],
   "source": [
    "SELECT *,\n",
    "    PERCENTILE_CONT(0.5) \n",
    "        WITHIN GROUP (ORDER BY Salary) \n",
    "        OVER() AS MedianSalary\n",
    "FROM Employees;\n"
   ]
  },
  {
   "cell_type": "markdown",
   "metadata": {
    "application/vnd.databricks.v1+cell": {
     "cellMetadata": {},
     "inputWidgets": {},
     "nuid": "a6065ad4-48c4-4bb1-9b7e-835925e21c4d",
     "showTitle": false,
     "tableResultSettingsMap": {},
     "title": ""
    }
   },
   "source": [
    "percintile_disc -----> same function but it picks the nearest value"
   ]
  },
  {
   "cell_type": "code",
   "execution_count": 0,
   "metadata": {
    "application/vnd.databricks.v1+cell": {
     "cellMetadata": {
      "byteLimit": 2048000,
      "rowLimit": 10000
     },
     "inputWidgets": {},
     "nuid": "96c38970-d0cb-4f6c-ae79-82fc9c16476d",
     "showTitle": false,
     "tableResultSettingsMap": {},
     "title": ""
    }
   },
   "outputs": [],
   "source": [
    "SELECT *,\n",
    "    PERCENTILE_disc(0.5) \n",
    "        WITHIN GROUP (ORDER BY Salary) \n",
    "        OVER() AS MedianSalary\n",
    "FROM Employees;"
   ]
  },
  {
   "cell_type": "markdown",
   "metadata": {
    "application/vnd.databricks.v1+cell": {
     "cellMetadata": {},
     "inputWidgets": {},
     "nuid": "6bf55290-26e6-4c06-ac1c-ed91d7176dc4",
     "showTitle": false,
     "tableResultSettingsMap": {},
     "title": ""
    }
   },
   "source": []
  }
 ],
 "metadata": {
  "application/vnd.databricks.v1+notebook": {
   "computePreferences": null,
   "dashboards": [],
   "environmentMetadata": {
    "base_environment": "",
    "environment_version": "3"
   },
   "inputWidgetPreferences": null,
   "language": "sql",
   "notebookMetadata": {
    "pythonIndentUnit": 4
   },
   "notebookName": "Window functions with examples",
   "widgets": {}
  },
  "language_info": {
   "name": "sql"
  }
 },
 "nbformat": 4,
 "nbformat_minor": 0
}
