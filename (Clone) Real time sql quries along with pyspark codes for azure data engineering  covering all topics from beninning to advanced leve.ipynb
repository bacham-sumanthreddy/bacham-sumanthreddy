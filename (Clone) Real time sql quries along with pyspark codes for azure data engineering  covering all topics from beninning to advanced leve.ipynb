{
 "cells": [
  {
   "cell_type": "markdown",
   "metadata": {
    "application/vnd.databricks.v1+cell": {
     "cellMetadata": {},
     "inputWidgets": {},
     "nuid": "a27cfd79-6cab-4fc0-97b2-626f1316fe6e",
     "showTitle": false,
     "tableResultSettingsMap": {},
     "title": ""
    }
   },
   "source": [
    "**Employees along with their department names**"
   ]
  },
  {
   "cell_type": "code",
   "execution_count": 0,
   "metadata": {
    "application/vnd.databricks.v1+cell": {
     "cellMetadata": {},
     "inputWidgets": {},
     "nuid": "29408d3d-2382-4b40-ba7a-0cbb3011cc8f",
     "showTitle": true,
     "tableResultSettingsMap": {},
     "title": "sql"
    }
   },
   "outputs": [],
   "source": [
    "SELECT e.EMPNO, e.ENAME, d.DNAME\n",
    "FROM EMP e\n",
    "JOIN DEPT d ON e.DEPTNO = d.DEPTNO;\n"
   ]
  },
  {
   "cell_type": "code",
   "execution_count": 0,
   "metadata": {
    "application/vnd.databricks.v1+cell": {
     "cellMetadata": {},
     "inputWidgets": {},
     "nuid": "03b5a57e-c685-4566-b902-6231843471b7",
     "showTitle": true,
     "tableResultSettingsMap": {},
     "title": "pysaprk"
    }
   },
   "outputs": [],
   "source": [
    "emp_dept = emp.join(dept, emp.DEPTNO == dept.DEPTNO, \"inner\") \\\n",
    ".select(emp.EMPNO, emp.ENAME, dept.DNAME)\n",
    "emp_dept.show()\n"
   ]
  },
  {
   "cell_type": "markdown",
   "metadata": {
    "application/vnd.databricks.v1+cell": {
     "cellMetadata": {},
     "inputWidgets": {},
     "nuid": "ea550c13-234c-47ba-992a-d5d6cc1c1655",
     "showTitle": false,
     "tableResultSettingsMap": {},
     "title": ""
    }
   },
   "source": [
    "**Employees who do not belong to any department**"
   ]
  },
  {
   "cell_type": "code",
   "execution_count": 0,
   "metadata": {
    "application/vnd.databricks.v1+cell": {
     "cellMetadata": {},
     "inputWidgets": {},
     "nuid": "937bbc57-7d49-46cf-b0d7-b3b60506279e",
     "showTitle": false,
     "tableResultSettingsMap": {},
     "title": ""
    }
   },
   "outputs": [],
   "source": [
    "SELECT e.EMPNO, e.ENAME\n",
    "FROM EMP e\n",
    "LEFT JOIN DEPT d ON e.DEPTNO = d.DEPTNO\n",
    "WHERE d.DEPTNO IS NULL;\n",
    "\n",
    "\n"
   ]
  },
  {
   "cell_type": "code",
   "execution_count": 0,
   "metadata": {
    "application/vnd.databricks.v1+cell": {
     "cellMetadata": {},
     "inputWidgets": {},
     "nuid": "0879510b-473b-45ff-9784-a3d9991c87c3",
     "showTitle": false,
     "tableResultSettingsMap": {},
     "title": ""
    }
   },
   "outputs": [],
   "source": [
    "emp_no_dept = emp.join(dept, emp.DEPTNO == dept.DEPTNO, \"left_anti\") \\\n",
    ".select(\"EMPNO\", \"ENAME\")\n",
    "emp_no_dept.show()\n"
   ]
  },
  {
   "cell_type": "markdown",
   "metadata": {
    "application/vnd.databricks.v1+cell": {
     "cellMetadata": {},
     "inputWidgets": {},
     "nuid": "564a7513-ea3c-406d-ae22-2c2efeabbd5b",
     "showTitle": false,
     "tableResultSettingsMap": {},
     "title": ""
    }
   },
   "source": [
    "**Employees who earn more than their manager**"
   ]
  },
  {
   "cell_type": "code",
   "execution_count": 0,
   "metadata": {
    "application/vnd.databricks.v1+cell": {
     "cellMetadata": {},
     "inputWidgets": {},
     "nuid": "4c266147-962d-46e8-971a-50adcf3ae10f",
     "showTitle": false,
     "tableResultSettingsMap": {},
     "title": ""
    }
   },
   "outputs": [],
   "source": [
    "SELECT e.ENAME AS Employee, e.SAL AS Emp_Sal, m.ENAME AS Manager, m.SAL AS Mgr_Sal\n",
    "FROM EMP e\n",
    "JOIN EMP m ON e.MGR = m.EMPNO\n",
    "WHERE e.SAL > m.SAL;"
   ]
  },
  {
   "cell_type": "code",
   "execution_count": 0,
   "metadata": {
    "application/vnd.databricks.v1+cell": {
     "cellMetadata": {},
     "inputWidgets": {},
     "nuid": "d79c0dfe-4aee-4517-94e7-c3bca89ec265",
     "showTitle": false,
     "tableResultSettingsMap": {},
     "title": ""
    }
   },
   "outputs": [],
   "source": [
    "emp_mgr = emp.alias(\"e\").join(emp.alias(\"m\"), col(\"e.MGR\") == col(\"m.EMPNO\")) \\\n",
    "    .filter(col(\"e.SAL\") > col(\"m.SAL\")) \\\n",
    "    .select(col(\"e.ENAME\").alias(\"Employee\"),\n",
    "            col(\"e.SAL\").alias(\"Emp_Sal\"),\n",
    "            col(\"m.ENAME\").alias(\"Manager\"),\n",
    "            col(\"m.SAL\").alias(\"Mgr_Sal\"))\n",
    "emp_mgr.show()\n"
   ]
  },
  {
   "cell_type": "markdown",
   "metadata": {
    "application/vnd.databricks.v1+cell": {
     "cellMetadata": {},
     "inputWidgets": {},
     "nuid": "f80b1bdb-8ccd-4aeb-ae56-d5dd88cf0541",
     "showTitle": false,
     "tableResultSettingsMap": {},
     "title": ""
    }
   },
   "source": []
  },
  {
   "cell_type": "markdown",
   "metadata": {
    "application/vnd.databricks.v1+cell": {
     "cellMetadata": {},
     "inputWidgets": {},
     "nuid": "88126077-fee4-4164-807f-77b58df9112d",
     "showTitle": false,
     "tableResultSettingsMap": {},
     "title": ""
    }
   },
   "source": [
    "**Departments without employees**"
   ]
  },
  {
   "cell_type": "code",
   "execution_count": 0,
   "metadata": {
    "application/vnd.databricks.v1+cell": {
     "cellMetadata": {},
     "inputWidgets": {},
     "nuid": "e927490a-4404-4d81-9385-4c28961d7f9a",
     "showTitle": false,
     "tableResultSettingsMap": {},
     "title": ""
    }
   },
   "outputs": [],
   "source": [
    "SELECT d.DEPTNO, d.DNAME\n",
    "FROM DEPT d\n",
    "LEFT JOIN EMP e ON d.DEPTNO = e.DEPTNO\n",
    "WHERE e.EMPNO IS NULL;\n"
   ]
  },
  {
   "cell_type": "code",
   "execution_count": 0,
   "metadata": {
    "application/vnd.databricks.v1+cell": {
     "cellMetadata": {},
     "inputWidgets": {},
     "nuid": "cccdd235-9a95-48e7-ad8e-66406fcf7fa2",
     "showTitle": false,
     "tableResultSettingsMap": {},
     "title": ""
    }
   },
   "outputs": [],
   "source": [
    "dept_no_emp = dept.join(emp, dept.DEPTNO == emp.DEPTNO, \"left_anti\") \\\n",
    "                  .select(\"DEPTNO\", \"DNAME\")\n",
    "dept_no_emp.show()\n"
   ]
  },
  {
   "cell_type": "markdown",
   "metadata": {
    "application/vnd.databricks.v1+cell": {
     "cellMetadata": {},
     "inputWidgets": {},
     "nuid": "b1ea9da9-8cea-41e7-b758-50eb3f41c978",
     "showTitle": false,
     "tableResultSettingsMap": {},
     "title": ""
    }
   },
   "source": [
    "**Employees with salary > company average salary**"
   ]
  },
  {
   "cell_type": "code",
   "execution_count": 0,
   "metadata": {
    "application/vnd.databricks.v1+cell": {
     "cellMetadata": {},
     "inputWidgets": {},
     "nuid": "189318d4-62b1-4315-a3ba-95ea16bea3eb",
     "showTitle": false,
     "tableResultSettingsMap": {},
     "title": ""
    }
   },
   "outputs": [],
   "source": [
    "SELECT EMPNO, ENAME, SAL\n",
    "FROM EMP\n",
    "WHERE SAL > (SELECT AVG(SAL) FROM EMP);\n"
   ]
  },
  {
   "cell_type": "code",
   "execution_count": 0,
   "metadata": {
    "application/vnd.databricks.v1+cell": {
     "cellMetadata": {},
     "inputWidgets": {},
     "nuid": "49972445-ef84-45dc-8212-fc1241f4376a",
     "showTitle": false,
     "tableResultSettingsMap": {},
     "title": ""
    }
   },
   "outputs": [],
   "source": [
    "company_avg = emp.agg({\"SAL\": \"avg\"}).collect()[0][0]\n",
    "above_avg = emp.filter(col(\"SAL\") > company_avg)\n",
    "above_avg.show()\n"
   ]
  },
  {
   "cell_type": "markdown",
   "metadata": {
    "application/vnd.databricks.v1+cell": {
     "cellMetadata": {},
     "inputWidgets": {},
     "nuid": "6f667f57-b2f8-4d11-9bfe-4657e008e2bd",
     "showTitle": false,
     "tableResultSettingsMap": {},
     "title": ""
    }
   },
   "source": [
    "**Employees with salary > department average salary**"
   ]
  },
  {
   "cell_type": "code",
   "execution_count": 0,
   "metadata": {
    "application/vnd.databricks.v1+cell": {
     "cellMetadata": {},
     "inputWidgets": {},
     "nuid": "6020ac61-8b3a-4f44-b5d9-5c5975094aa6",
     "showTitle": false,
     "tableResultSettingsMap": {},
     "title": ""
    }
   },
   "outputs": [],
   "source": [
    "SELECT e.EMPNO, e.ENAME, e.SAL, e.DEPTNO\n",
    "FROM EMP e\n",
    "WHERE e.SAL > (SELECT AVG(SAL) FROM EMP WHERE DEPTNO = e.DEPTNO)"
   ]
  },
  {
   "cell_type": "code",
   "execution_count": 0,
   "metadata": {
    "application/vnd.databricks.v1+cell": {
     "cellMetadata": {},
     "inputWidgets": {},
     "nuid": "fbf882e4-ca4f-40a8-be95-7fcc0d40c096",
     "showTitle": false,
     "tableResultSettingsMap": {},
     "title": ""
    }
   },
   "outputs": [],
   "source": [
    "from pyspark.sql.functions import avg\n",
    "\n",
    "dept_avg = emp.groupBy(\"DEPTNO\").agg(avg(\"SAL\").alias(\"avg_sal\"))\n",
    "above_dept_avg = emp.join(dept_avg, \"DEPTNO\") \\\n",
    " .filter(col(\"SAL\") > col(\"avg_sal\")) \\\n",
    " .select(\"EMPNO\", \"ENAME\", \"SAL\", \"DEPTNO\")\n",
    "above_dept_avg.show()"
   ]
  },
  {
   "cell_type": "markdown",
   "metadata": {
    "application/vnd.databricks.v1+cell": {
     "cellMetadata": {},
     "inputWidgets": {},
     "nuid": "13dbb6ae-5e7b-400b-bc0c-1396e447a8d6",
     "showTitle": false,
     "tableResultSettingsMap": {},
     "title": ""
    }
   },
   "source": [
    "**Employees working in same department as \"SCOTT\"**"
   ]
  },
  {
   "cell_type": "code",
   "execution_count": 0,
   "metadata": {
    "application/vnd.databricks.v1+cell": {
     "cellMetadata": {
      "byteLimit": 2048000,
      "rowLimit": 10000
     },
     "inputWidgets": {},
     "nuid": "95f03268-f7ba-45e4-8d94-66c8155850e5",
     "showTitle": false,
     "tableResultSettingsMap": {},
     "title": ""
    }
   },
   "outputs": [],
   "source": [
    "SELECT ENAME, DEPTNO\n",
    "FROM EMP\n",
    "WHERE DEPTNO = (SELECT DEPTNO FROM EMP WHERE ENAME = 'SCOTT');\n"
   ]
  },
  {
   "cell_type": "code",
   "execution_count": 0,
   "metadata": {
    "application/vnd.databricks.v1+cell": {
     "cellMetadata": {},
     "inputWidgets": {},
     "nuid": "af2b1926-ebed-408b-9d7c-df29fe2743c7",
     "showTitle": false,
     "tableResultSettingsMap": {},
     "title": ""
    }
   },
   "outputs": [],
   "source": [
    "scott_dept = emp.filter(col(\"ENAME\") == \"SCOTT\").select(\"DEPTNO\").collect()[0][0]\n",
    "same_dept = emp.filter(col(\"DEPTNO\") == scott_dept).select(\"ENAME\", \"DEPTNO\")\n",
    "same_dept.show()\n"
   ]
  },
  {
   "cell_type": "markdown",
   "metadata": {
    "application/vnd.databricks.v1+cell": {
     "cellMetadata": {},
     "inputWidgets": {},
     "nuid": "663ae28f-423b-4086-aaa4-ad12ca2c5267",
     "showTitle": false,
     "tableResultSettingsMap": {},
     "title": ""
    }
   },
   "source": [
    "**Employees whose salary is in the top 3 of their department**"
   ]
  },
  {
   "cell_type": "code",
   "execution_count": 0,
   "metadata": {
    "application/vnd.databricks.v1+cell": {
     "cellMetadata": {
      "byteLimit": 2048000,
      "rowLimit": 10000
     },
     "inputWidgets": {},
     "nuid": "30cfc033-47e4-4131-8634-e7c03157e1bb",
     "showTitle": false,
     "tableResultSettingsMap": {},
     "title": ""
    }
   },
   "outputs": [],
   "source": [
    "-- Select employee number, name, salary, and department number\n",
    "SELECT EMPNO, ENAME, SAL, DEPTNO\n",
    "FROM (\n",
    "    -- Subquery to rank employees within each department by salary in descending order\n",
    "    SELECT EMPNO, ENAME, SAL, DEPTNO,\n",
    "           DENSE_RANK() OVER(PARTITION BY DEPTNO ORDER BY SAL DESC) AS rnk\n",
    "    FROM EMP\n",
    ") t\n",
    "-- Filter to get only the top 3 employees by salary in each department\n",
    "WHERE rnk <= 3;"
   ]
  },
  {
   "cell_type": "code",
   "execution_count": 0,
   "metadata": {
    "application/vnd.databricks.v1+cell": {
     "cellMetadata": {},
     "inputWidgets": {},
     "nuid": "bb09f954-ac6a-40ea-be5d-8ff917fd7c70",
     "showTitle": false,
     "tableResultSettingsMap": {},
     "title": ""
    }
   },
   "outputs": [],
   "source": [
    "from pyspark.sql.window import Window\n",
    "from pyspark.sql.functions import dense_rank\n",
    "\n",
    "w = Window.partitionBy(\"DEPTNO\").orderBy(col(\"SAL\").desc())\n",
    "top3 = emp.withColumn(\"rnk\", dense_rank().over(w)).filter(col(\"rnk\") <= 3)\n",
    "top3.select(\"EMPNO\", \"ENAME\", \"SAL\", \"DEPTNO\").show()\n",
    "\n",
    "-- top3 = emp.withColumn(\"rnk\", dense_rank().over(w)).filter((col(\"rnk\") <= 3 & \"deptno\"==\"20\"))\n"
   ]
  },
  {
   "cell_type": "markdown",
   "metadata": {
    "application/vnd.databricks.v1+cell": {
     "cellMetadata": {},
     "inputWidgets": {},
     "nuid": "4d4603db-9b4a-470e-96b5-200ef1cca993",
     "showTitle": false,
     "tableResultSettingsMap": {},
     "title": ""
    }
   },
   "source": [
    "**Department with the maximum number of employees**"
   ]
  },
  {
   "cell_type": "code",
   "execution_count": 0,
   "metadata": {
    "application/vnd.databricks.v1+cell": {
     "cellMetadata": {},
     "inputWidgets": {},
     "nuid": "83d84c19-a859-4d65-a7b8-3ee98dfd1766",
     "showTitle": false,
     "tableResultSettingsMap": {},
     "title": ""
    }
   },
   "outputs": [],
   "source": [
    "SELECT DEPTNO, COUNT(*) AS emp_count\n",
    "FROM EMP\n",
    "GROUP BY DEPTNO\n",
    "ORDER BY emp_count DESC\n",
    "FETCH FIRST 1 ROWS ONLY;\n"
   ]
  },
  {
   "cell_type": "code",
   "execution_count": 0,
   "metadata": {
    "application/vnd.databricks.v1+cell": {
     "cellMetadata": {},
     "inputWidgets": {},
     "nuid": "4ba274fe-c2f6-427f-9dc4-0c3229ce9178",
     "showTitle": false,
     "tableResultSettingsMap": {},
     "title": ""
    }
   },
   "outputs": [],
   "source": [
    "dept_max = emp.groupBy(\"DEPTNO\").count() \\\n",
    "              .orderBy(col(\"count\").desc()) \\\n",
    "              .limit(1)\n",
    "dept_max.show()\n"
   ]
  },
  {
   "cell_type": "markdown",
   "metadata": {
    "application/vnd.databricks.v1+cell": {
     "cellMetadata": {},
     "inputWidgets": {},
     "nuid": "5de2b0ac-d1a8-41c1-8f3e-75dc9581bc2b",
     "showTitle": false,
     "tableResultSettingsMap": {},
     "title": ""
    }
   },
   "source": [
    "**Employees who joined before their manager**"
   ]
  },
  {
   "cell_type": "code",
   "execution_count": 0,
   "metadata": {
    "application/vnd.databricks.v1+cell": {
     "cellMetadata": {},
     "inputWidgets": {},
     "nuid": "73ab6bb9-45e6-4955-b668-c7e1be9c07c7",
     "showTitle": false,
     "tableResultSettingsMap": {},
     "title": ""
    }
   },
   "outputs": [],
   "source": [
    "SELECT e.ENAME AS Employee, e.HIREDATE AS Emp_Hire, \n",
    "       m.ENAME AS Manager, m.HIREDATE AS Mgr_Hire\n",
    "FROM EMP e\n",
    "JOIN EMP m ON e.MGR = m.EMPNO\n",
    "WHERE e.HIREDATE < m.HIREDATE;\n"
   ]
  },
  {
   "cell_type": "code",
   "execution_count": 0,
   "metadata": {
    "application/vnd.databricks.v1+cell": {
     "cellMetadata": {},
     "inputWidgets": {},
     "nuid": "cd232c87-1994-489b-9334-1136ef85c385",
     "showTitle": false,
     "tableResultSettingsMap": {},
     "title": ""
    }
   },
   "outputs": [],
   "source": [
    "emp_mgr_hire = emp.alias(\"e\").join(emp.alias(\"m\"), col(\"e.MGR\") == col(\"m.EMPNO\")) \\\n",
    "    .filter(col(\"e.HIREDATE\") < col(\"m.HIREDATE\")) \\\n",
    "    .select(col(\"e.ENAME\").alias(\"Employee\"),\n",
    "            col(\"e.HIREDATE\").alias(\"Emp_Hire\"),\n",
    "            col(\"m.ENAME\").alias(\"Manager\"),\n",
    "            col(\"m.HIREDATE\").alias(\"Mgr_Hire\"))\n",
    "emp_mgr_hire.show()\n"
   ]
  },
  {
   "cell_type": "markdown",
   "metadata": {
    "application/vnd.databricks.v1+cell": {
     "cellMetadata": {},
     "inputWidgets": {},
     "nuid": "5ddd266b-3681-4548-a70f-9f910f541ad7",
     "showTitle": false,
     "tableResultSettingsMap": {},
     "title": ""
    }
   },
   "source": [
    "**Find the maximum salary in each department**"
   ]
  },
  {
   "cell_type": "code",
   "execution_count": 0,
   "metadata": {
    "application/vnd.databricks.v1+cell": {
     "cellMetadata": {},
     "inputWidgets": {},
     "nuid": "73578183-6e56-4d5a-9d48-3f91f678b63d",
     "showTitle": false,
     "tableResultSettingsMap": {},
     "title": ""
    }
   },
   "outputs": [],
   "source": [
    "SELECT DEPTNO, MAX(SAL) AS Max_Sal\n",
    "FROM EMP\n",
    "GROUP BY DEPTNO;\n"
   ]
  },
  {
   "cell_type": "code",
   "execution_count": 0,
   "metadata": {
    "application/vnd.databricks.v1+cell": {
     "cellMetadata": {},
     "inputWidgets": {},
     "nuid": "b77acc4b-93f0-43b7-96e4-5591a439901f",
     "showTitle": false,
     "tableResultSettingsMap": {},
     "title": ""
    }
   },
   "outputs": [],
   "source": [
    "from pyspark.sql.functions import max\n",
    "\n",
    "max_sal = emp.groupBy(\"DEPTNO\").agg(max(\"SAL\").alias(\"Max_Sal\"))\n",
    "max_sal.show()\n"
   ]
  },
  {
   "cell_type": "markdown",
   "metadata": {
    "application/vnd.databricks.v1+cell": {
     "cellMetadata": {},
     "inputWidgets": {},
     "nuid": "f1512169-2ff3-4460-803c-647dae461456",
     "showTitle": false,
     "tableResultSettingsMap": {},
     "title": ""
    }
   },
   "source": [
    "**Find the minimum salary in each job role**"
   ]
  },
  {
   "cell_type": "code",
   "execution_count": 0,
   "metadata": {
    "application/vnd.databricks.v1+cell": {
     "cellMetadata": {},
     "inputWidgets": {},
     "nuid": "5439aee7-3ced-48dc-bb97-e4ac40f7f7d3",
     "showTitle": false,
     "tableResultSettingsMap": {},
     "title": ""
    }
   },
   "outputs": [],
   "source": [
    "SELECT JOB, MIN(SAL) AS Min_Sal\n",
    "FROM EMP\n",
    "GROUP BY JOB;"
   ]
  },
  {
   "cell_type": "code",
   "execution_count": 0,
   "metadata": {
    "application/vnd.databricks.v1+cell": {
     "cellMetadata": {},
     "inputWidgets": {},
     "nuid": "3c8e4310-8315-4443-a5e1-cca487ea95a6",
     "showTitle": false,
     "tableResultSettingsMap": {},
     "title": ""
    }
   },
   "outputs": [],
   "source": [
    "from pyspark.sql.functions import min\n",
    "\n",
    "min_sal = emp.groupBy(\"JOB\").agg(min(\"SAL\").alias(\"Min_Sal\"))\n",
    "min_sal.show()"
   ]
  },
  {
   "cell_type": "markdown",
   "metadata": {
    "application/vnd.databricks.v1+cell": {
     "cellMetadata": {},
     "inputWidgets": {},
     "nuid": "fecf3943-4656-4ace-8681-fe73e909c058",
     "showTitle": false,
     "tableResultSettingsMap": {},
     "title": ""
    }
   },
   "source": [
    "**Find the average salary per department**"
   ]
  },
  {
   "cell_type": "code",
   "execution_count": 0,
   "metadata": {
    "application/vnd.databricks.v1+cell": {
     "cellMetadata": {},
     "inputWidgets": {},
     "nuid": "f1105418-3e3b-44e9-b539-b8f89e043fab",
     "showTitle": false,
     "tableResultSettingsMap": {},
     "title": ""
    }
   },
   "outputs": [],
   "source": [
    "SELECT DEPTNO, AVG(SAL) AS Avg_Sal\n",
    "FROM EMP\n",
    "GROUP BY DEPTNO;\n"
   ]
  },
  {
   "cell_type": "code",
   "execution_count": 0,
   "metadata": {
    "application/vnd.databricks.v1+cell": {
     "cellMetadata": {},
     "inputWidgets": {},
     "nuid": "b89c7bc4-e323-4e4b-a0aa-80d2774624b4",
     "showTitle": false,
     "tableResultSettingsMap": {},
     "title": ""
    }
   },
   "outputs": [],
   "source": [
    "from pyspark.sql.functions import avg\n",
    "\n",
    "avg_sal = emp.groupBy(\"DEPTNO\").agg(avg(\"SAL\").alias(\"Avg_Sal\"))\n",
    "avg_sal.show()\n"
   ]
  },
  {
   "cell_type": "markdown",
   "metadata": {
    "application/vnd.databricks.v1+cell": {
     "cellMetadata": {},
     "inputWidgets": {},
     "nuid": "cd3eea56-bc87-4c6a-a211-4c9d543334c4",
     "showTitle": false,
     "tableResultSettingsMap": {},
     "title": ""
    }
   },
   "source": [
    "**Count employees per department**"
   ]
  },
  {
   "cell_type": "code",
   "execution_count": 0,
   "metadata": {
    "application/vnd.databricks.v1+cell": {
     "cellMetadata": {},
     "inputWidgets": {},
     "nuid": "a42a8cf8-a297-4faf-b9d7-a739ec353ad4",
     "showTitle": false,
     "tableResultSettingsMap": {},
     "title": ""
    }
   },
   "outputs": [],
   "source": [
    "SELECT DEPTNO, COUNT(*) AS Emp_Count\n",
    "FROM EMP\n",
    "GROUP BY DEPTNO;\n"
   ]
  },
  {
   "cell_type": "code",
   "execution_count": 0,
   "metadata": {
    "application/vnd.databricks.v1+cell": {
     "cellMetadata": {},
     "inputWidgets": {},
     "nuid": "ea45ddee-c426-4793-93a3-4b0f3d0d8be4",
     "showTitle": false,
     "tableResultSettingsMap": {},
     "title": ""
    }
   },
   "outputs": [],
   "source": [
    "emp_count = emp.groupBy(\"DEPTNO\").count().withColumnRenamed(\"count\", \"Emp_Count\")\n",
    "emp_count.show()\n"
   ]
  },
  {
   "cell_type": "markdown",
   "metadata": {
    "application/vnd.databricks.v1+cell": {
     "cellMetadata": {},
     "inputWidgets": {},
     "nuid": "f5d4b5fe-66df-4579-8632-5372a437a280",
     "showTitle": false,
     "tableResultSettingsMap": {},
     "title": ""
    }
   },
   "source": [
    "**Count employees per department per job role**"
   ]
  },
  {
   "cell_type": "code",
   "execution_count": 0,
   "metadata": {
    "application/vnd.databricks.v1+cell": {
     "cellMetadata": {},
     "inputWidgets": {},
     "nuid": "6fad2a01-084d-4d79-b60e-987c418728da",
     "showTitle": false,
     "tableResultSettingsMap": {},
     "title": ""
    }
   },
   "outputs": [],
   "source": [
    "SELECT DEPTNO, JOB, COUNT(*) AS Emp_Count\n",
    "FROM EMP\n",
    "GROUP BY DEPTNO, JOB;\n"
   ]
  },
  {
   "cell_type": "code",
   "execution_count": 0,
   "metadata": {
    "application/vnd.databricks.v1+cell": {
     "cellMetadata": {},
     "inputWidgets": {},
     "nuid": "8f127098-2922-4e09-9ae1-2ccae0b78143",
     "showTitle": false,
     "tableResultSettingsMap": {},
     "title": ""
    }
   },
   "outputs": [],
   "source": [
    "emp_count_job = emp.groupBy(\"DEPTNO\", \"JOB\").count().withColumnRenamed(\"count\", \"Emp_Count\")\n",
    "emp_count_job.show()"
   ]
  },
  {
   "cell_type": "markdown",
   "metadata": {
    "application/vnd.databricks.v1+cell": {
     "cellMetadata": {},
     "inputWidgets": {},
     "nuid": "5831f454-ff2e-4f2d-86b8-aa971c4b48b3",
     "showTitle": false,
     "tableResultSettingsMap": {},
     "title": ""
    }
   },
   "source": [
    "**Find total salary paid by each department**"
   ]
  },
  {
   "cell_type": "code",
   "execution_count": 0,
   "metadata": {
    "application/vnd.databricks.v1+cell": {
     "cellMetadata": {},
     "inputWidgets": {},
     "nuid": "316c40be-8953-42d3-bdda-90de84e95b5e",
     "showTitle": false,
     "tableResultSettingsMap": {},
     "title": ""
    }
   },
   "outputs": [],
   "source": [
    "SELECT DEPTNO, SUM(SAL) AS Total_Sal\n",
    "FROM EMP\n",
    "GROUP BY DEPTNO;\n"
   ]
  },
  {
   "cell_type": "code",
   "execution_count": 0,
   "metadata": {
    "application/vnd.databricks.v1+cell": {
     "cellMetadata": {},
     "inputWidgets": {},
     "nuid": "35fd4ab2-28b6-444a-ac3e-450cc73d8dd6",
     "showTitle": false,
     "tableResultSettingsMap": {},
     "title": ""
    }
   },
   "outputs": [],
   "source": [
    "from pyspark.sql.functions import sum\n",
    "\n",
    "total_sal = emp.groupBy(\"DEPTNO\").agg(sum(\"SAL\").alias(\"Total_Sal\"))\n",
    "total_sal.show()\n"
   ]
  },
  {
   "cell_type": "markdown",
   "metadata": {
    "application/vnd.databricks.v1+cell": {
     "cellMetadata": {},
     "inputWidgets": {},
     "nuid": "68151705-be8a-4ddb-b9f7-36a31cc33808",
     "showTitle": false,
     "tableResultSettingsMap": {},
     "title": ""
    }
   },
   "source": [
    "**Find department with the highest average salary**"
   ]
  },
  {
   "cell_type": "code",
   "execution_count": 0,
   "metadata": {
    "application/vnd.databricks.v1+cell": {
     "cellMetadata": {},
     "inputWidgets": {},
     "nuid": "b107de07-2f6b-457c-85f6-a6e89f8f1bec",
     "showTitle": false,
     "tableResultSettingsMap": {},
     "title": ""
    }
   },
   "outputs": [],
   "source": [
    "SELECT DEPTNO, AVG(SAL) AS Avg_Sal\n",
    "FROM EMP\n",
    "GROUP BY DEPTNO\n",
    "ORDER BY Avg_Sal DESC\n",
    "FETCH FIRST 1 ROWS ONLY;\n"
   ]
  },
  {
   "cell_type": "code",
   "execution_count": 0,
   "metadata": {
    "application/vnd.databricks.v1+cell": {
     "cellMetadata": {},
     "inputWidgets": {},
     "nuid": "66a0edce-dc7d-4069-9344-24e019833971",
     "showTitle": false,
     "tableResultSettingsMap": {},
     "title": ""
    }
   },
   "outputs": [],
   "source": [
    "highest_avg = emp.groupBy(\"DEPTNO\").agg(avg(\"SAL\").alias(\"Avg_Sal\")) \\\n",
    "                 .orderBy(col(\"Avg_Sal\").desc()) \\\n",
    "                 .limit(1)\n",
    "highest_avg.show()\n"
   ]
  },
  {
   "cell_type": "markdown",
   "metadata": {
    "application/vnd.databricks.v1+cell": {
     "cellMetadata": {},
     "inputWidgets": {},
     "nuid": "5aaa1318-55f8-4f6d-8e34-469ff1206ae8",
     "showTitle": false,
     "tableResultSettingsMap": {},
     "title": ""
    }
   },
   "source": [
    "**Find employees earning above department average salary**"
   ]
  },
  {
   "cell_type": "code",
   "execution_count": 0,
   "metadata": {
    "application/vnd.databricks.v1+cell": {
     "cellMetadata": {},
     "inputWidgets": {},
     "nuid": "65b12ce2-c4f0-45b1-9fb3-4638bf0bbed4",
     "showTitle": false,
     "tableResultSettingsMap": {},
     "title": ""
    }
   },
   "outputs": [],
   "source": [
    "SELECT e.EMPNO, e.ENAME, e.SAL, e.DEPTNO\n",
    "FROM EMP e\n",
    "JOIN (\n",
    "    SELECT DEPTNO, AVG(SAL) AS dept_avg\n",
    "    FROM EMP\n",
    "    GROUP BY DEPTNO\n",
    ") d ON e.DEPTNO = d.DEPTNO\n",
    "WHERE e.SAL > d.dept_avg;\n"
   ]
  },
  {
   "cell_type": "code",
   "execution_count": 0,
   "metadata": {
    "application/vnd.databricks.v1+cell": {
     "cellMetadata": {},
     "inputWidgets": {},
     "nuid": "7f103d70-eab2-4b00-912d-ed2d54f4b7ec",
     "showTitle": false,
     "tableResultSettingsMap": {},
     "title": ""
    }
   },
   "outputs": [],
   "source": [
    "dept_avg = emp.groupBy(\"DEPTNO\").agg(avg(\"SAL\").alias(\"dept_avg\"))\n",
    "above_avg = emp.join(dept_avg, \"DEPTNO\").filter(col(\"SAL\") > col(\"dept_avg\"))\n",
    "above_avg.select(\"EMPNO\", \"ENAME\", \"SAL\", \"DEPTNO\").show()\n"
   ]
  },
  {
   "cell_type": "markdown",
   "metadata": {
    "application/vnd.databricks.v1+cell": {
     "cellMetadata": {},
     "inputWidgets": {},
     "nuid": "52aa2b76-291d-4035-804a-fdeb5cdc1cf1",
     "showTitle": false,
     "tableResultSettingsMap": {},
     "title": ""
    }
   },
   "source": [
    "**Find salary difference between max & min per department**"
   ]
  },
  {
   "cell_type": "code",
   "execution_count": 0,
   "metadata": {
    "application/vnd.databricks.v1+cell": {
     "cellMetadata": {},
     "inputWidgets": {},
     "nuid": "443c6708-2846-40b6-a968-31a33c6b3caa",
     "showTitle": false,
     "tableResultSettingsMap": {},
     "title": ""
    }
   },
   "outputs": [],
   "source": [
    "SELECT DEPTNO, MAX(SAL) - MIN(SAL) AS Sal_Diff\n",
    "FROM EMP\n",
    "GROUP BY DEPTNO;\n"
   ]
  },
  {
   "cell_type": "code",
   "execution_count": 0,
   "metadata": {
    "application/vnd.databricks.v1+cell": {
     "cellMetadata": {},
     "inputWidgets": {},
     "nuid": "1b97bf81-dbe3-40ea-a4b2-89e25002e56f",
     "showTitle": false,
     "tableResultSettingsMap": {},
     "title": ""
    }
   },
   "outputs": [],
   "source": [
    "sal_diff = emp.groupBy(\"DEPTNO\") \\\n",
    " .agg((max(\"SAL\") - min(\"SAL\")).alias(\"Sal_Diff\"))\n",
    "sal_diff.show()\n"
   ]
  },
  {
   "cell_type": "markdown",
   "metadata": {
    "application/vnd.databricks.v1+cell": {
     "cellMetadata": {},
     "inputWidgets": {},
     "nuid": "843c3ed0-c9f0-4f00-9528-499713b15966",
     "showTitle": false,
     "tableResultSettingsMap": {},
     "title": ""
    }
   },
   "source": [
    "**Find total employees with commission > 0**"
   ]
  },
  {
   "cell_type": "code",
   "execution_count": 0,
   "metadata": {
    "application/vnd.databricks.v1+cell": {
     "cellMetadata": {},
     "inputWidgets": {},
     "nuid": "5c4ed4e3-08f6-4315-929b-8732886c4e4f",
     "showTitle": false,
     "tableResultSettingsMap": {},
     "title": ""
    }
   },
   "outputs": [],
   "source": [
    "SELECT COUNT(*) AS Emp_With_Comm\n",
    "FROM EMP\n",
    "WHERE COMM > 0;\n"
   ]
  },
  {
   "cell_type": "code",
   "execution_count": 0,
   "metadata": {
    "application/vnd.databricks.v1+cell": {
     "cellMetadata": {},
     "inputWidgets": {},
     "nuid": "441d6f56-b3ce-4726-9828-a0a72359005e",
     "showTitle": false,
     "tableResultSettingsMap": {},
     "title": ""
    }
   },
   "outputs": [],
   "source": [
    "emp_with_comm = emp.filter(col(\"COMM\") > 0).count()\n",
    "print(\"Employees with commission > 0:\", emp_with_comm)\n"
   ]
  },
  {
   "cell_type": "markdown",
   "metadata": {
    "application/vnd.databricks.v1+cell": {
     "cellMetadata": {},
     "inputWidgets": {},
     "nuid": "dae84d1f-da69-4d7a-91a9-bdc4d8ba081f",
     "showTitle": false,
     "tableResultSettingsMap": {},
     "title": ""
    }
   },
   "source": [
    "**Find total employees with commission**"
   ]
  },
  {
   "cell_type": "code",
   "execution_count": 0,
   "metadata": {
    "application/vnd.databricks.v1+cell": {
     "cellMetadata": {},
     "inputWidgets": {},
     "nuid": "88b367c0-e51d-4cbe-a131-a95579f4cec0",
     "showTitle": false,
     "tableResultSettingsMap": {},
     "title": ""
    }
   },
   "outputs": [],
   "source": [
    "SELECT COUNT(*) AS Emp_With_Comm\n",
    "FROM EMP\n",
    "WHERE COMM > 0;\n"
   ]
  },
  {
   "cell_type": "code",
   "execution_count": 0,
   "metadata": {
    "application/vnd.databricks.v1+cell": {
     "cellMetadata": {},
     "inputWidgets": {},
     "nuid": "8f9602dc-85e6-4372-878f-c6c268b4eaad",
     "showTitle": false,
     "tableResultSettingsMap": {},
     "title": ""
    }
   },
   "outputs": [],
   "source": [
    "emp_with_comm = emp.filter(col(\"COMM\") > 0).count()\n",
    "print(\"Employees with commission > 0:\", emp_with_comm)"
   ]
  },
  {
   "cell_type": "markdown",
   "metadata": {
    "application/vnd.databricks.v1+cell": {
     "cellMetadata": {},
     "inputWidgets": {},
     "nuid": "c3480f28-78b9-49d3-a7cf-8ff51854b5fd",
     "showTitle": false,
     "tableResultSettingsMap": {},
     "title": ""
    }
   },
   "source": [
    "**Find the top 3 salaries across the company**"
   ]
  },
  {
   "cell_type": "code",
   "execution_count": 0,
   "metadata": {
    "application/vnd.databricks.v1+cell": {
     "cellMetadata": {},
     "inputWidgets": {},
     "nuid": "3b92f681-d107-4ea5-ac79-4bfca4e408af",
     "showTitle": false,
     "tableResultSettingsMap": {},
     "title": ""
    }
   },
   "outputs": [],
   "source": [
    "SELECT EMPNO, ENAME, SAL\n",
    "FROM (\n",
    "    SELECT EMPNO, ENAME, SAL,\n",
    "           DENSE_RANK() OVER (ORDER BY SAL DESC) AS rnk\n",
    "    FROM EMP\n",
    ") t\n",
    "WHERE rnk <= 3;\n"
   ]
  },
  {
   "cell_type": "code",
   "execution_count": 0,
   "metadata": {
    "application/vnd.databricks.v1+cell": {
     "cellMetadata": {},
     "inputWidgets": {},
     "nuid": "97a031d1-aa53-4651-88d7-9ffd367750c5",
     "showTitle": false,
     "tableResultSettingsMap": {},
     "title": ""
    }
   },
   "outputs": [],
   "source": [
    "from pyspark.sql.window import Window\n",
    "from pyspark.sql.functions import dense_rank\n",
    "\n",
    "w = Window.orderBy(emp[\"SAL\"].desc())\n",
    "top3 = emp.withColumn(\"rnk\", dense_rank().over(w)) \\\n",
    "          .filter(\"rnk <= 3\")\n",
    "top3.show()\n"
   ]
  },
  {
   "cell_type": "markdown",
   "metadata": {
    "application/vnd.databricks.v1+cell": {
     "cellMetadata": {},
     "inputWidgets": {},
     "nuid": "b72e43a6-33a2-44b1-afe4-1453cf6e8422",
     "showTitle": false,
     "tableResultSettingsMap": {},
     "title": ""
    }
   },
   "source": [
    "**Find the highest paid employee per department**"
   ]
  },
  {
   "cell_type": "code",
   "execution_count": 0,
   "metadata": {
    "application/vnd.databricks.v1+cell": {
     "cellMetadata": {},
     "inputWidgets": {},
     "nuid": "ac198098-4ec1-419d-aa54-ddf0e7917a75",
     "showTitle": false,
     "tableResultSettingsMap": {},
     "title": ""
    }
   },
   "outputs": [],
   "source": [
    "SELECT EMPNO, ENAME, DEPTNO, SAL\n",
    "FROM (\n",
    "    SELECT EMPNO, ENAME, DEPTNO, SAL,\n",
    "           RANK() OVER (PARTITION BY DEPTNO ORDER BY SAL DESC) AS rnk\n",
    "    FROM EMP\n",
    ") t\n",
    "WHERE rnk = 1;"
   ]
  },
  {
   "cell_type": "code",
   "execution_count": 0,
   "metadata": {
    "application/vnd.databricks.v1+cell": {
     "cellMetadata": {},
     "inputWidgets": {},
     "nuid": "170b7baa-b294-4e69-80db-99ca099d7f9b",
     "showTitle": false,
     "tableResultSettingsMap": {},
     "title": ""
    }
   },
   "outputs": [],
   "source": [
    "from pyspark.sql.functions import rank\n",
    "\n",
    "w = Window.partitionBy(\"DEPTNO\").orderBy(emp[\"SAL\"].desc())\n",
    "highest_paid = emp.withColumn(\"rnk\", rank().over(w)).filter(\"rnk = 1\")\n",
    "highest_paid.show()"
   ]
  },
  {
   "cell_type": "markdown",
   "metadata": {
    "application/vnd.databricks.v1+cell": {
     "cellMetadata": {},
     "inputWidgets": {},
     "nuid": "c3e21477-ee3c-4bcb-8e2a-54b92f466ebe",
     "showTitle": false,
     "tableResultSettingsMap": {},
     "title": ""
    }
   },
   "source": [
    "**Find running total of salaries ordered by hire date**\n"
   ]
  },
  {
   "cell_type": "code",
   "execution_count": 0,
   "metadata": {
    "application/vnd.databricks.v1+cell": {
     "cellMetadata": {},
     "inputWidgets": {},
     "nuid": "acf52ced-5d69-4ffc-ab3d-bc44d27cb465",
     "showTitle": false,
     "tableResultSettingsMap": {},
     "title": ""
    }
   },
   "outputs": [],
   "source": [
    "SELECT EMPNO, ENAME, HIREDATE, SAL,\n",
    "       SUM(SAL) OVER (ORDER BY HIREDATE) AS Running_Total\n",
    "FROM EMP;\n"
   ]
  },
  {
   "cell_type": "code",
   "execution_count": 0,
   "metadata": {
    "application/vnd.databricks.v1+cell": {
     "cellMetadata": {},
     "inputWidgets": {},
     "nuid": "9e91e580-44f6-4fbd-8b2c-da6ce6cd879a",
     "showTitle": false,
     "tableResultSettingsMap": {},
     "title": ""
    }
   },
   "outputs": [],
   "source": [
    "from pyspark.sql.functions import sum\n",
    "\n",
    "w = Window.orderBy(\"HIREDATE\").rowsBetween(Window.unboundedPreceding, Window.currentRow)\n",
    "running_total = emp.withColumn(\"Running_Total\", sum(\"SAL\").over(w))\n",
    "running_total.show()\n"
   ]
  },
  {
   "cell_type": "markdown",
   "metadata": {
    "application/vnd.databricks.v1+cell": {
     "cellMetadata": {},
     "inputWidgets": {},
     "nuid": "a5647faf-4492-4a77-b59a-cfd451af4426",
     "showTitle": false,
     "tableResultSettingsMap": {},
     "title": ""
    }
   },
   "source": [
    "**Find employees with rank based on salary (per department)**\n"
   ]
  },
  {
   "cell_type": "code",
   "execution_count": 0,
   "metadata": {
    "application/vnd.databricks.v1+cell": {
     "cellMetadata": {},
     "inputWidgets": {},
     "nuid": "d0877f1b-bcb7-48a9-ab2b-0c2d045c01de",
     "showTitle": false,
     "tableResultSettingsMap": {},
     "title": ""
    }
   },
   "outputs": [],
   "source": [
    "SELECT EMPNO, ENAME, DEPTNO, SAL,\n",
    "       RANK() OVER (PARTITION BY DEPTNO ORDER BY SAL DESC) AS sal_rank\n",
    "FROM EMP;\n"
   ]
  },
  {
   "cell_type": "code",
   "execution_count": 0,
   "metadata": {
    "application/vnd.databricks.v1+cell": {
     "cellMetadata": {},
     "inputWidgets": {},
     "nuid": "3c1115a2-a0e0-48fb-8c96-bb1aa05545b6",
     "showTitle": false,
     "tableResultSettingsMap": {},
     "title": ""
    }
   },
   "outputs": [],
   "source": [
    "w = Window.partitionBy(\"DEPTNO\").orderBy(emp[\"SAL\"].desc())\n",
    "dept_rank = emp.withColumn(\"sal_rank\", rank().over(w))\n",
    "dept_rank.show()\n"
   ]
  },
  {
   "cell_type": "markdown",
   "metadata": {
    "application/vnd.databricks.v1+cell": {
     "cellMetadata": {},
     "inputWidgets": {},
     "nuid": "b515f5a4-a88a-4d8a-9858-2b6a788a868a",
     "showTitle": false,
     "tableResultSettingsMap": {},
     "title": ""
    }
   },
   "source": [
    "**Find dense rank of employees across company by salary**\n"
   ]
  },
  {
   "cell_type": "code",
   "execution_count": 0,
   "metadata": {
    "application/vnd.databricks.v1+cell": {
     "cellMetadata": {},
     "inputWidgets": {},
     "nuid": "94657c1c-ab7f-4a89-a854-19d4c4ace972",
     "showTitle": false,
     "tableResultSettingsMap": {},
     "title": ""
    }
   },
   "outputs": [],
   "source": [
    "SELECT EMPNO, ENAME, SAL,\n",
    "DENSE_RANK() OVER (ORDER BY SAL DESC) AS dense_rnk\n",
    "FROM EMP;"
   ]
  },
  {
   "cell_type": "code",
   "execution_count": 0,
   "metadata": {
    "application/vnd.databricks.v1+cell": {
     "cellMetadata": {},
     "inputWidgets": {},
     "nuid": "8bdcfdc0-ced0-4aea-99ae-e39080b3dc2f",
     "showTitle": false,
     "tableResultSettingsMap": {},
     "title": ""
    }
   },
   "outputs": [],
   "source": [
    "w = Window.orderBy(emp[\"SAL\"].desc())\n",
    "dense_rnk = emp.withColumn(\"dense_rnk\", dense_rank().over(w))\n",
    "dense_rnk.show()\n"
   ]
  },
  {
   "cell_type": "markdown",
   "metadata": {
    "application/vnd.databricks.v1+cell": {
     "cellMetadata": {},
     "inputWidgets": {},
     "nuid": "6a43a5ad-8715-4dbf-ae0f-01e2c6ebe7d6",
     "showTitle": false,
     "tableResultSettingsMap": {},
     "title": ""
    }
   },
   "source": [
    "**Find employees earning above department median**"
   ]
  },
  {
   "cell_type": "code",
   "execution_count": 0,
   "metadata": {
    "application/vnd.databricks.v1+cell": {
     "cellMetadata": {},
     "inputWidgets": {},
     "nuid": "c3d28f4e-2544-4d27-a58c-5adceb3d8483",
     "showTitle": false,
     "tableResultSettingsMap": {},
     "title": ""
    }
   },
   "outputs": [],
   "source": [
    "SELECT EMPNO, ENAME, SAL, DEPTNO\n",
    "FROM EMP e\n",
    "JOIN (\n",
    "    SELECT DEPTNO,\n",
    "    PERCENTILE_CONT(0.5) WITHIN GROUP (ORDER BY SAL) AS dept_median\n",
    "    FROM EMP\n",
    "    GROUP BY DEPTNO\n",
    ") d ON e.DEPTNO = d.DEPTNO\n",
    "WHERE e.SAL > d.dept_median;\n"
   ]
  },
  {
   "cell_type": "code",
   "execution_count": 0,
   "metadata": {
    "application/vnd.databricks.v1+cell": {
     "cellMetadata": {},
     "inputWidgets": {},
     "nuid": "766ad3dc-e60f-4497-8d63-32818dc31fff",
     "showTitle": false,
     "tableResultSettingsMap": {},
     "title": ""
    }
   },
   "outputs": [],
   "source": [
    "from pyspark.sql.functions import expr\n",
    "\n",
    "dept_median = emp.groupBy(\"DEPTNO\").agg(expr(\"percentile_approx(SAL, 0.5)\").alias(\"dept_median\"))\n",
    "above_median = emp.join(dept_median, \"DEPTNO\").filter(emp[\"SAL\"] > dept_median[\"dept_median\"])\n",
    "above_median.show()\n"
   ]
  },
  {
   "cell_type": "markdown",
   "metadata": {
    "application/vnd.databricks.v1+cell": {
     "cellMetadata": {},
     "inputWidgets": {},
     "nuid": "8503a1ec-add5-4518-a984-40841a1df80d",
     "showTitle": false,
     "tableResultSettingsMap": {},
     "title": ""
    }
   },
   "source": [
    "**Find the Nth highest salary per department (say N=2)**"
   ]
  },
  {
   "cell_type": "code",
   "execution_count": 0,
   "metadata": {
    "application/vnd.databricks.v1+cell": {
     "cellMetadata": {},
     "inputWidgets": {},
     "nuid": "e808e8c0-d815-4bd9-ba0b-b8ba73e44375",
     "showTitle": false,
     "tableResultSettingsMap": {},
     "title": ""
    }
   },
   "outputs": [],
   "source": [
    "SELECT EMPNO, ENAME, DEPTNO, SAL\n",
    "FROM (\n",
    "    SELECT EMPNO, ENAME, DEPTNO, SAL,\n",
    "           DENSE_RANK() OVER (PARTITION BY DEPTNO ORDER BY SAL DESC) AS rnk\n",
    "    FROM EMP\n",
    ") t\n",
    "WHERE rnk = 2;\n"
   ]
  },
  {
   "cell_type": "code",
   "execution_count": 0,
   "metadata": {
    "application/vnd.databricks.v1+cell": {
     "cellMetadata": {},
     "inputWidgets": {},
     "nuid": "c779d9fe-4354-4585-ab1f-46b80a2dd72a",
     "showTitle": false,
     "tableResultSettingsMap": {},
     "title": ""
    }
   },
   "outputs": [],
   "source": [
    "N = 2\n",
    "w = Window.partitionBy(\"DEPTNO\").orderBy(emp[\"SAL\"].desc())\n",
    "nth_highest = emp.withColumn(\"rnk\", dense_rank().over(w)).filter(f\"rnk = {N}\")\n",
    "nth_highest.show()\n"
   ]
  },
  {
   "cell_type": "markdown",
   "metadata": {
    "application/vnd.databricks.v1+cell": {
     "cellMetadata": {},
     "inputWidgets": {},
     "nuid": "a3da1c4f-e2af-4020-b04a-901be625e918",
     "showTitle": false,
     "tableResultSettingsMap": {},
     "title": ""
    }
   },
   "source": [
    "**Find cumulative distribution of salaries across company**"
   ]
  },
  {
   "cell_type": "code",
   "execution_count": 0,
   "metadata": {
    "application/vnd.databricks.v1+cell": {
     "cellMetadata": {},
     "inputWidgets": {},
     "nuid": "01782f75-eaa3-4edc-ba90-39c556bf2ccf",
     "showTitle": false,
     "tableResultSettingsMap": {},
     "title": ""
    }
   },
   "outputs": [],
   "source": [
    "SELECT EMPNO, ENAME, SAL,\n",
    "       CUME_DIST() OVER (ORDER BY SAL) AS cum_dist\n",
    "FROM EMP;\n"
   ]
  },
  {
   "cell_type": "code",
   "execution_count": 0,
   "metadata": {
    "application/vnd.databricks.v1+cell": {
     "cellMetadata": {},
     "inputWidgets": {},
     "nuid": "a9272b65-66b1-49b1-89e9-82fff0545fe4",
     "showTitle": false,
     "tableResultSettingsMap": {},
     "title": ""
    }
   },
   "outputs": [],
   "source": [
    "from pyspark.sql.functions import cume_dist\n",
    "\n",
    "w = Window.orderBy(\"SAL\")\n",
    "cumdist = emp.withColumn(\"cum_dist\", cume_dist().over(w))\n",
    "cumdist.show()\n"
   ]
  },
  {
   "cell_type": "markdown",
   "metadata": {
    "application/vnd.databricks.v1+cell": {
     "cellMetadata": {},
     "inputWidgets": {},
     "nuid": "36628039-af89-4dac-bb21-ac793107ecd6",
     "showTitle": false,
     "tableResultSettingsMap": {},
     "title": ""
    }
   },
   "source": [
    "**Find lag/lead salary for each employee compared to colleague**"
   ]
  },
  {
   "cell_type": "code",
   "execution_count": 0,
   "metadata": {
    "application/vnd.databricks.v1+cell": {
     "cellMetadata": {},
     "inputWidgets": {},
     "nuid": "631bd248-e729-4415-ac40-165ac21947ec",
     "showTitle": false,
     "tableResultSettingsMap": {},
     "title": ""
    }
   },
   "outputs": [],
   "source": [
    "SELECT EMPNO, ENAME, SAL,\n",
    "       LAG(SAL,1) OVER (ORDER BY SAL) AS prev_sal,\n",
    "       LEAD(SAL,1) OVER (ORDER BY SAL) AS next_sal\n",
    "FROM EMP;\n"
   ]
  },
  {
   "cell_type": "code",
   "execution_count": 0,
   "metadata": {
    "application/vnd.databricks.v1+cell": {
     "cellMetadata": {},
     "inputWidgets": {},
     "nuid": "7fd983cc-502f-470a-9c86-6b2d5c993389",
     "showTitle": false,
     "tableResultSettingsMap": {},
     "title": ""
    }
   },
   "outputs": [],
   "source": [
    "from pyspark.sql.functions import lag, lead\n",
    "\n",
    "w = Window.orderBy(\"SAL\")\n",
    "lag_lead = emp.withColumn(\"prev_sal\", lag(\"SAL\", 1).over(w)) \\\n",
    "              .withColumn(\"next_sal\", lead(\"SAL\", 1).over(w))\n",
    "lag_lead.show()\n"
   ]
  },
  {
   "cell_type": "markdown",
   "metadata": {
    "application/vnd.databricks.v1+cell": {
     "cellMetadata": {},
     "inputWidgets": {},
     "nuid": "07b64ff9-e7e8-4306-a839-d17d0e58e9b4",
     "showTitle": false,
     "tableResultSettingsMap": {},
     "title": ""
    }
   },
   "source": [
    "**Implement SCD Type 1 for CUSTOMER (overwrite changed attributes)**"
   ]
  },
  {
   "cell_type": "code",
   "execution_count": 0,
   "metadata": {
    "application/vnd.databricks.v1+cell": {
     "cellMetadata": {},
     "inputWidgets": {},
     "nuid": "5ed20ec9-acce-490e-a71f-f39d98c515b4",
     "showTitle": false,
     "tableResultSettingsMap": {},
     "title": ""
    }
   },
   "outputs": [],
   "source": [
    "MERGE INTO CUSTOMER tgt\n",
    "USING STG_CUSTOMER src\n",
    "  ON tgt.CUST_ID = src.CUST_ID\n",
    "WHEN MATCHED AND (\n",
    "     COALESCE(tgt.NAME,'')       <> COALESCE(src.NAME,'')\n",
    "  OR COALESCE(tgt.ADDRESS,'')    <> COALESCE(src.ADDRESS,'')\n",
    "  OR COALESCE(tgt.PHONE,'')      <> COALESCE(src.PHONE,'')\n",
    ") THEN UPDATE SET\n",
    "  NAME    = src.NAME,\n",
    "  ADDRESS = src.ADDRESS,\n",
    "  PHONE   = src.PHONE,\n",
    "  UPDATED_AT = CURRENT_TIMESTAMP\n",
    "WHEN NOT MATCHED THEN\n",
    "  INSERT (CUST_ID, NAME, ADDRESS, PHONE, CREATED_AT, UPDATED_AT)\n",
    "  VALUES (src.CUST_ID, src.NAME, src.ADDRESS, src.PHONE, CURRENT_TIMESTAMP, CURRENT_TIMESTAMP);\n"
   ]
  },
  {
   "cell_type": "code",
   "execution_count": 0,
   "metadata": {
    "application/vnd.databricks.v1+cell": {
     "cellMetadata": {},
     "inputWidgets": {},
     "nuid": "fce6cd7a-7390-4d09-a8aa-33694774d6fb",
     "showTitle": false,
     "tableResultSettingsMap": {},
     "title": ""
    }
   },
   "outputs": [],
   "source": [
    "from delta.tables import DeltaTable\n",
    "\n",
    "tgt = DeltaTable.forName(spark, \"CUSTOMER\")\n",
    "src = spark.table(\"STG_CUSTOMER\")\n",
    "\n",
    "(tgt.alias(\"t\").merge(src.alias(\"s\"), \"t.CUST_ID = s.CUST_ID\")\n",
    " .whenMatchedUpdate(\n",
    "     condition=\"\"\"coalesce(t.NAME,'')<>coalesce(s.NAME,'')\n",
    "                  OR coalesce(t.ADDRESS,'')<>coalesce(s.ADDRESS,'')\n",
    "                  OR coalesce(t.PHONE,'')<>coalesce(s.PHONE,'')\"\"\",\n",
    "     set={\"NAME\":\"s.NAME\",\"ADDRESS\":\"s.ADDRESS\",\"PHONE\":\"s.PHONE\",\"UPDATED_AT\":\"current_timestamp()\"}\n",
    " )\n",
    " .whenNotMatchedInsert(values={\n",
    "     \"CUST_ID\":\"s.CUST_ID\",\"NAME\":\"s.NAME\",\"ADDRESS\":\"s.ADDRESS\",\"PHONE\":\"s.PHONE\",\n",
    "     \"CREATED_AT\":\"current_timestamp()\",\"UPDATED_AT\":\"current_timestamp()\"\n",
    " })\n",
    " .execute())\n"
   ]
  },
  {
   "cell_type": "markdown",
   "metadata": {
    "application/vnd.databricks.v1+cell": {
     "cellMetadata": {},
     "inputWidgets": {},
     "nuid": "8254b824-c21d-4b77-aca6-8cde238cce32",
     "showTitle": false,
     "tableResultSettingsMap": {},
     "title": ""
    }
   },
   "source": [
    "**Implement SCD Type 2 for CUSTOMER (track history)\n",
    "\n",
    "Assumptions: target columns = CUST_ID, NAME, ADDRESS, PHONE, START_DATE, END_DATE, IS_CURRENT.**\n"
   ]
  },
  {
   "cell_type": "code",
   "execution_count": 0,
   "metadata": {
    "application/vnd.databricks.v1+cell": {
     "cellMetadata": {},
     "inputWidgets": {},
     "nuid": "bc1201eb-9434-45c4-bb9a-ea5820bbac4d",
     "showTitle": false,
     "tableResultSettingsMap": {},
     "title": ""
    }
   },
   "outputs": [],
   "source": [
    "-- 1) Close out current rows that changed\n",
    "MERGE INTO CUSTOMER tgt\n",
    "USING STG_CUSTOMER src\n",
    "  ON tgt.CUST_ID = src.CUST_ID AND tgt.IS_CURRENT = 1\n",
    "WHEN MATCHED AND (\n",
    "     COALESCE(tgt.NAME,'')    <> COALESCE(src.NAME,'')\n",
    "  OR COALESCE(tgt.ADDRESS,'') <> COALESCE(src.ADDRESS,'')\n",
    "  OR COALESCE(tgt.PHONE,'')   <> COALESCE(src.PHONE,'')\n",
    ") THEN UPDATE SET\n",
    "  END_DATE   = CURRENT_DATE,\n",
    "  IS_CURRENT = 0;\n",
    "\n",
    "-- 2) Insert brand-new and changed-current versions\n",
    "MERGE INTO CUSTOMER tgt\n",
    "USING STG_CUSTOMER src\n",
    "  ON tgt.CUST_ID = src.CUST_ID AND tgt.IS_CURRENT = 1\n",
    "WHEN NOT MATCHED THEN\n",
    "  INSERT (CUST_ID, NAME, ADDRESS, PHONE, START_DATE, END_DATE, IS_CURRENT)\n",
    "  VALUES (src.CUST_ID, src.NAME, src.ADDRESS, src.PHONE, CURRENT_DATE, NULL, 1);\n"
   ]
  },
  {
   "cell_type": "code",
   "execution_count": 0,
   "metadata": {
    "application/vnd.databricks.v1+cell": {
     "cellMetadata": {},
     "inputWidgets": {},
     "nuid": "af37f242-b5c1-403c-a230-c93e5ab21030",
     "showTitle": false,
     "tableResultSettingsMap": {},
     "title": ""
    }
   },
   "outputs": [],
   "source": [
    "tgt = DeltaTable.forName(spark, \"CUSTOMER\")\n",
    "src = spark.table(\"STG_CUSTOMER\")\n",
    "\n",
    "# 1) Close current records that changed\n",
    "(tgt.alias(\"t\").merge(src.alias(\"s\"), \"t.CUST_ID = s.CUST_ID AND t.IS_CURRENT = 1\")\n",
    " .whenMatchedUpdate(\n",
    "   condition=\"\"\"coalesce(t.NAME,'')<>coalesce(s.NAME,'')\n",
    "                OR coalesce(t.ADDRESS,'')<>coalesce(s.ADDRESS,'')\n",
    "                OR coalesce(t.PHONE,'')<>coalesce(s.PHONE,'')\"\"\",\n",
    "   set={\"END_DATE\":\"current_date()\",\"IS_CURRENT\":\"0\"}\n",
    " ).execute())\n",
    "\n",
    "# 2) Insert new current versions (new or changed)\n",
    "(tgt.alias(\"t\").merge(src.alias(\"s\"), \"t.CUST_ID = s.CUST_ID AND t.IS_CURRENT = 1\")\n",
    " .whenNotMatchedInsert(values={\n",
    "   \"CUST_ID\":\"s.CUST_ID\",\"NAME\":\"s.NAME\",\"ADDRESS\":\"s.ADDRESS\",\"PHONE\":\"s.PHONE\",\n",
    "   \"START_DATE\":\"current_date()\",\"END_DATE\":\"null\",\"IS_CURRENT\":\"1\"\n",
    " }).execute())\n"
   ]
  },
  {
   "cell_type": "markdown",
   "metadata": {
    "application/vnd.databricks.v1+cell": {
     "cellMetadata": {},
     "inputWidgets": {},
     "nuid": "ffb4c262-8efe-4266-b132-4fb3fb71f737",
     "showTitle": false,
     "tableResultSettingsMap": {},
     "title": ""
    }
   },
   "source": [
    "**Identify slowly changing attributes in EMP**"
   ]
  },
  {
   "cell_type": "code",
   "execution_count": 0,
   "metadata": {
    "application/vnd.databricks.v1+cell": {
     "cellMetadata": {},
     "inputWidgets": {},
     "nuid": "c628b9d1-eb1a-4610-b7a7-b60317dfeaa2",
     "showTitle": false,
     "tableResultSettingsMap": {},
     "title": ""
    }
   },
   "outputs": [],
   "source": [
    "SELECT 'JOB'   AS column_name FROM EMP e JOIN STG_EMP s ON e.EMPNO=s.EMPNO\n",
    " WHERE COALESCE(e.JOB,'')   <> COALESCE(s.JOB,'')\n",
    "UNION ALL\n",
    "SELECT 'SAL'   FROM EMP e JOIN STG_EMP s ON e.EMPNO=s.EMPNO\n",
    " WHERE COALESCE(e.SAL,0)   <> COALESCE(s.SAL,0)\n",
    "UNION ALL\n",
    "SELECT 'MGR'   FROM EMP e JOIN STG_EMP s ON e.EMPNO=s.EMPNO\n",
    " WHERE COALESCE(e.MGR,0)   <> COALESCE(s.MGR,0)\n",
    "UNION ALL\n",
    "SELECT 'DEPTNO' FROM EMP e JOIN STG_EMP s ON e.EMPNO=s.EMPNO\n",
    " WHERE COALESCE(e.DEPTNO,0)<> COALESCE(s.DEPTNO,0);\n"
   ]
  },
  {
   "cell_type": "code",
   "execution_count": 0,
   "metadata": {
    "application/vnd.databricks.v1+cell": {
     "cellMetadata": {},
     "inputWidgets": {},
     "nuid": "91c416f2-ae97-4efd-a9fa-416a85b3b4d8",
     "showTitle": false,
     "tableResultSettingsMap": {},
     "title": ""
    }
   },
   "outputs": [],
   "source": [
    "e = spark.table(\"EMP\")\n",
    "s = spark.table(\"STG_EMP\")\n",
    "j = e.alias(\"e\").join(s.alias(\"s\"), \"EMPNO\")\n",
    "\n",
    "changes = {\n",
    "  \"JOB\":   (j[\"e.JOB\"] != j[\"s.JOB\"]),\n",
    "  \"SAL\":   (j[\"e.SAL\"] != j[\"s.SAL\"]),\n",
    "  \"MGR\":   (j[\"e.MGR\"] != j[\"s.MGR\"]),\n",
    "  \"DEPTNO\":(j[\"e.DEPTNO\"] != j[\"s.DEPTNO\"]),\n",
    "}\n",
    "for colname, cond in changes.items():\n",
    "    print(colname, j.filter(cond).limit(1).count() > 0)\n"
   ]
  },
  {
   "cell_type": "markdown",
   "metadata": {
    "application/vnd.databricks.v1+cell": {
     "cellMetadata": {},
     "inputWidgets": {},
     "nuid": "d0ab94ad-e304-433d-812b-02af659f11a5",
     "showTitle": false,
     "tableResultSettingsMap": {},
     "title": ""
    }
   },
   "source": [
    "**Incremental load: insert new + update changed employees from STG_EMP (SCD1)**\n"
   ]
  },
  {
   "cell_type": "code",
   "execution_count": 0,
   "metadata": {
    "application/vnd.databricks.v1+cell": {
     "cellMetadata": {},
     "inputWidgets": {},
     "nuid": "493db4dd-5d06-4df1-9645-4cd6921fa9a8",
     "showTitle": false,
     "tableResultSettingsMap": {},
     "title": ""
    }
   },
   "outputs": [],
   "source": [
    "MERGE INTO EMP tgt\n",
    "USING STG_EMP src\n",
    "  ON tgt.EMPNO = src.EMPNO\n",
    "WHEN MATCHED AND (\n",
    "     COALESCE(tgt.ENAME,'')<>COALESCE(src.ENAME,'')\n",
    "  OR COALESCE(tgt.JOB,'')  <>COALESCE(src.JOB,'')\n",
    "  OR COALESCE(tgt.SAL,0)   <>COALESCE(src.SAL,0)\n",
    "  OR COALESCE(tgt.MGR,0)   <>COALESCE(src.MGR,0)\n",
    "  OR COALESCE(tgt.DEPTNO,0)<>COALESCE(src.DEPTNO,0)\n",
    ") THEN UPDATE SET\n",
    "  ENAME=src.ENAME, JOB=src.JOB, SAL=src.SAL, MGR=src.MGR, DEPTNO=src.DEPTNO, UPDATED_AT=CURRENT_TIMESTAMP\n",
    "WHEN NOT MATCHED THEN\n",
    "  INSERT (EMPNO, ENAME, JOB, SAL, MGR, DEPTNO, CREATED_AT, UPDATED_AT)\n",
    "  VALUES (src.EMPNO, src.ENAME, src.JOB, src.SAL, src.MGR, src.DEPTNO, CURRENT_TIMESTAMP, CURRENT_TIMESTAMP);\n"
   ]
  },
  {
   "cell_type": "code",
   "execution_count": 0,
   "metadata": {
    "application/vnd.databricks.v1+cell": {
     "cellMetadata": {},
     "inputWidgets": {},
     "nuid": "b5788e4d-34f1-4ac8-94bf-7824a536c886",
     "showTitle": false,
     "tableResultSettingsMap": {},
     "title": ""
    }
   },
   "outputs": [],
   "source": [
    "from delta.tables import DeltaTable\n",
    "tgt = DeltaTable.forName(spark, \"EMP\")\n",
    "src = spark.table(\"STG_EMP\")\n",
    "\n",
    "(tgt.alias(\"t\").merge(src.alias(\"s\"), \"t.EMPNO = s.EMPNO\")\n",
    " .whenMatchedUpdate(\n",
    "   condition=\"\"\"coalesce(t.ENAME,'')<>coalesce(s.ENAME,'')\n",
    "             OR coalesce(t.JOB,'')<>coalesce(s.JOB,'')\n",
    "             OR coalesce(t.SAL,0)<>coalesce(s.SAL,0)\n",
    "             OR coalesce(t.MGR,0)<>coalesce(s.MGR,0)\n",
    "             OR coalesce(t.DEPTNO,0)<>coalesce(s.DEPTNO,0)\"\"\",\n",
    "   set={\"ENAME\":\"s.ENAME\",\"JOB\":\"s.JOB\",\"SAL\":\"s.SAL\",\"MGR\":\"s.MGR\",\"DEPTNO\":\"s.DEPTNO\",\"UPDATED_AT\":\"current_timestamp()\"}\n",
    " )\n",
    " .whenNotMatchedInsert(values={\n",
    "   \"EMPNO\":\"s.EMPNO\",\"ENAME\":\"s.ENAME\",\"JOB\":\"s.JOB\",\"SAL\":\"s.SAL\",\"MGR\":\"s.MGR\",\"DEPTNO\":\"s.DEPTNO\",\n",
    "   \"CREATED_AT\":\"current_timestamp()\",\"UPDATED_AT\":\"current_timestamp()\"\n",
    " })\n",
    " .execute())\n"
   ]
  },
  {
   "cell_type": "markdown",
   "metadata": {
    "application/vnd.databricks.v1+cell": {
     "cellMetadata": {},
     "inputWidgets": {},
     "nuid": "70ac700a-6f16-433e-b54f-11f27a75e7fb",
     "showTitle": false,
     "tableResultSettingsMap": {},
     "title": ""
    }
   },
   "source": [
    "**Partition EMP by DEPTNO for faster queries**"
   ]
  },
  {
   "cell_type": "code",
   "execution_count": 0,
   "metadata": {
    "application/vnd.databricks.v1+cell": {
     "cellMetadata": {},
     "inputWidgets": {},
     "nuid": "70d9cd7c-592b-4d19-ba81-cd1f320106de",
     "showTitle": false,
     "tableResultSettingsMap": {},
     "title": ""
    }
   },
   "outputs": [],
   "source": [
    "CREATE TABLE EMP_PARTITIONED\n",
    "USING DELTA\n",
    "PARTITIONED BY (DEPTNO)\n",
    "AS SELECT * FROM EMP;\n"
   ]
  },
  {
   "cell_type": "code",
   "execution_count": 0,
   "metadata": {
    "application/vnd.databricks.v1+cell": {
     "cellMetadata": {},
     "inputWidgets": {},
     "nuid": "8f09b5ff-1e4c-4e53-a2b2-e2dac612e3d3",
     "showTitle": false,
     "tableResultSettingsMap": {},
     "title": ""
    }
   },
   "outputs": [],
   "source": [
    "spark.table(\"EMP\") \\\n",
    "     .write.format(\"delta\") \\\n",
    "     .mode(\"overwrite\") \\\n",
    "     .partitionBy(\"DEPTNO\") \\\n",
    "     .saveAsTable(\"EMP_PARTITIONED\")\n"
   ]
  },
  {
   "cell_type": "markdown",
   "metadata": {
    "application/vnd.databricks.v1+cell": {
     "cellMetadata": {},
     "inputWidgets": {},
     "nuid": "49285f9a-f129-42a6-a968-7d0d082dc51e",
     "showTitle": false,
     "tableResultSettingsMap": {},
     "title": ""
    }
   },
   "source": [
    "**Optimize queries on EMP table with indexes**"
   ]
  },
  {
   "cell_type": "code",
   "execution_count": 0,
   "metadata": {
    "application/vnd.databricks.v1+cell": {
     "cellMetadata": {},
     "inputWidgets": {},
     "nuid": "ef756762-91dd-44d3-aa74-5590b6de4062",
     "showTitle": false,
     "tableResultSettingsMap": {},
     "title": ""
    }
   },
   "outputs": [],
   "source": [
    "CREATE INDEX idx_emp_deptno ON EMP (DEPTNO);\n",
    "CREATE INDEX idx_emp_mgr    ON EMP (MGR);\n",
    "CREATE INDEX idx_emp_job    ON EMP (JOB);\n"
   ]
  },
  {
   "cell_type": "markdown",
   "metadata": {
    "application/vnd.databricks.v1+cell": {
     "cellMetadata": {},
     "inputWidgets": {},
     "nuid": "48d2d993-0682-4e91-adf2-cf1df90341db",
     "showTitle": false,
     "tableResultSettingsMap": {},
     "title": ""
    }
   },
   "source": [
    "**Use Z-Ordering in Databricks on EMP by DEPTNO**"
   ]
  },
  {
   "cell_type": "code",
   "execution_count": 0,
   "metadata": {
    "application/vnd.databricks.v1+cell": {
     "cellMetadata": {},
     "inputWidgets": {},
     "nuid": "5cb73f57-b342-463b-82ef-c0496995725f",
     "showTitle": false,
     "tableResultSettingsMap": {},
     "title": ""
    }
   },
   "outputs": [],
   "source": [
    "OPTIMIZE EMP\n",
    "ZORDER BY (DEPTNO);\n"
   ]
  },
  {
   "cell_type": "code",
   "execution_count": 0,
   "metadata": {
    "application/vnd.databricks.v1+cell": {
     "cellMetadata": {},
     "inputWidgets": {},
     "nuid": "ff2a7fae-d791-4b24-a97e-ffe431542dc2",
     "showTitle": false,
     "tableResultSettingsMap": {},
     "title": ""
    }
   },
   "outputs": [],
   "source": [
    "spark.sql(\"OPTIMIZE EMP ZORDER BY (DEPTNO)\")\n"
   ]
  },
  {
   "cell_type": "markdown",
   "metadata": {
    "application/vnd.databricks.v1+cell": {
     "cellMetadata": {},
     "inputWidgets": {},
     "nuid": "e9cd1ba0-920b-4a4c-8d8b-288fff0bfc94",
     "showTitle": false,
     "tableResultSettingsMap": {},
     "title": ""
    }
   },
   "source": [
    "**Demonstrate rollback in case of failed transaction**"
   ]
  },
  {
   "cell_type": "code",
   "execution_count": 0,
   "metadata": {
    "application/vnd.databricks.v1+cell": {
     "cellMetadata": {},
     "inputWidgets": {},
     "nuid": "be5990fb-c95a-43b5-914d-7629105e3b27",
     "showTitle": false,
     "tableResultSettingsMap": {},
     "title": ""
    }
   },
   "outputs": [],
   "source": [
    "BEGIN TRANSACTION;\n",
    "UPDATE EMP SET SAL = SAL * 1.1 WHERE DEPTNO = 10;\n",
    "\n",
    "-- Suppose this fails (e.g., FK violation)\n",
    "INSERT INTO EMP (EMPNO, ENAME, DEPTNO) VALUES (1, NULL, 99);\n",
    "\n",
    "-- On error:\n",
    "ROLLBACK;\n",
    "\n",
    "-- Otherwise:\n",
    "-- COMMIT;\n"
   ]
  },
  {
   "cell_type": "code",
   "execution_count": 0,
   "metadata": {
    "application/vnd.databricks.v1+cell": {
     "cellMetadata": {},
     "inputWidgets": {},
     "nuid": "1b4362ec-a079-455f-bcf5-98092a7ab5fd",
     "showTitle": false,
     "tableResultSettingsMap": {},
     "title": ""
    }
   },
   "outputs": [],
   "source": [
    "BEGIN;\n",
    "UPDATE EMP SET SAL = SAL * 1.1 WHERE DEPTNO = 10;\n",
    "\n",
    "-- Simulate error or validation failure, then:\n",
    "ROLLBACK;\n",
    "\n",
    "-- If all good, use:\n",
    "-- COMMIT;\n"
   ]
  },
  {
   "cell_type": "code",
   "execution_count": 0,
   "metadata": {
    "application/vnd.databricks.v1+cell": {
     "cellMetadata": {},
     "inputWidgets": {},
     "nuid": "75e8ec64-1002-4d53-ab90-fac894cc7d94",
     "showTitle": false,
     "tableResultSettingsMap": {},
     "title": ""
    }
   },
   "outputs": [],
   "source": [
    "spark.sql(\"BEGIN\")\n",
    "try:\n",
    "    spark.sql(\"UPDATE EMP SET SAL = SAL * 1.1 WHERE DEPTNO = 10\")\n",
    "    # simulate failure\n",
    "    raise Exception(\"validation failed\")\n",
    "    spark.sql(\"COMMIT\")\n",
    "except:\n",
    "    spark.sql(\"ROLLBACK\")\n"
   ]
  },
  {
   "cell_type": "markdown",
   "metadata": {
    "application/vnd.databricks.v1+cell": {
     "cellMetadata": {},
     "inputWidgets": {},
     "nuid": "1bb1d83a-0684-4b40-850f-f57c6d353a8d",
     "showTitle": false,
     "tableResultSettingsMap": {},
     "title": ""
    }
   },
   "source": [
    "**Show how schema evolution works in Delta Lake (add column automatically)**"
   ]
  },
  {
   "cell_type": "code",
   "execution_count": 0,
   "metadata": {
    "application/vnd.databricks.v1+cell": {
     "cellMetadata": {},
     "inputWidgets": {},
     "nuid": "1d6f6c52-6581-4983-ae6c-bce89b214f88",
     "showTitle": false,
     "tableResultSettingsMap": {},
     "title": ""
    }
   },
   "outputs": [],
   "source": [
    "ALTER TABLE EMP ADD COLUMNS (BONUS DOUBLE);\n"
   ]
  },
  {
   "cell_type": "code",
   "execution_count": 0,
   "metadata": {
    "application/vnd.databricks.v1+cell": {
     "cellMetadata": {},
     "inputWidgets": {},
     "nuid": "0d1cbf86-b9e0-4d29-b5c1-d0ee78285ca1",
     "showTitle": false,
     "tableResultSettingsMap": {},
     "title": ""
    }
   },
   "outputs": [],
   "source": [
    "from pyspark.sql.functions import lit\n",
    "\n",
    "df = spark.table(\"EMP\").withColumn(\"BONUS\", lit(None).cast(\"double\"))\n",
    "\n",
    "# Allow merge/write to evolve schema\n",
    "(df.write.format(\"delta\")\n",
    "   .mode(\"overwrite\")\n",
    "   .option(\"mergeSchema\", \"true\")   # <- evolve new columns\n",
    "   .saveAsTable(\"EMP\"))\n"
   ]
  },
  {
   "cell_type": "code",
   "execution_count": 0,
   "metadata": {
    "application/vnd.databricks.v1+cell": {
     "cellMetadata": {},
     "inputWidgets": {},
     "nuid": "49a83822-6978-4dfb-a8d6-af672e191f9a",
     "showTitle": false,
     "tableResultSettingsMap": {},
     "title": ""
    }
   },
   "outputs": [],
   "source": [
    "spark.conf.set(\"spark.databricks.delta.schema.autoMerge.enabled\", \"true\")\n",
    "\n",
    "tgt = DeltaTable.forName(spark, \"EMP\")\n",
    "src = spark.table(\"STG_EMP_WITH_BONUS\")  # has a new column BONUS\n",
    "\n",
    "(tgt.alias(\"t\").merge(src.alias(\"s\"), \"t.EMPNO = s.EMPNO\")\n",
    " .whenMatchedUpdateAll()\n",
    " .whenNotMatchedInsertAll()\n",
    " .execute())\n"
   ]
  }
 ],
 "metadata": {
  "application/vnd.databricks.v1+notebook": {
   "computePreferences": null,
   "dashboards": [],
   "environmentMetadata": {
    "base_environment": "",
    "environment_version": "3"
   },
   "inputWidgetPreferences": null,
   "language": "sql",
   "notebookMetadata": {
    "pythonIndentUnit": 4
   },
   "notebookName": "(Clone) Real time sql quries along with pyspark codes for azure data engineering  covering all topics from beninning to advanced leve",
   "widgets": {}
  },
  "language_info": {
   "name": "sql"
  }
 },
 "nbformat": 4,
 "nbformat_minor": 0
}
